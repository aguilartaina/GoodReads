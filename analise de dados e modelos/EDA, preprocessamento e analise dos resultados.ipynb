{
 "cells": [
  {
   "cell_type": "markdown",
   "metadata": {},
   "source": [
    "## Leitura e pré-processamento dos dados\n",
    "A base utilizada foi obtida por meio de uma técnica web-scrapping da rede social GoodReads, cujo foco são os livros. Cada livro possui uma página de onde é possível retirar diversas informações tais como autor, idioma, número de páginas e descrição. Todas as informações foram obtidas a partir de um projeto do scrapy, que pode ser encontrado na pasta \"goodreads_scraper\". No total, foram obtidos dados de mais 54 mil livros diferentes, que foram salvos em um arquivo json lines."
   ]
  },
  {
   "cell_type": "code",
   "execution_count": 1,
   "metadata": {},
   "outputs": [
    {
     "data": {
      "text/plain": [
       "54703"
      ]
     },
     "execution_count": 1,
     "metadata": {},
     "output_type": "execute_result"
    }
   ],
   "source": [
    "import json\n",
    "\n",
    "with open('books.jl', 'r') as file:\n",
    "    books = [json.loads(line) for line in file]\n",
    "    \n",
    "len(books)"
   ]
  },
  {
   "cell_type": "markdown",
   "metadata": {},
   "source": [
    "Porém nem todos os livros estão aptos para análise. Para começar, definiu-se que será analisado livros na língua inglesa por ser um idioma com mais estudo a respeito de técnicas de processamento de linguagem natural. Além disso, livros sem descrição, ou sem gênero foram retirados da base."
   ]
  },
  {
   "cell_type": "code",
   "execution_count": 2,
   "metadata": {},
   "outputs": [
    {
     "name": "stdout",
     "output_type": "stream",
     "text": [
      "41677\n"
     ]
    },
    {
     "data": {
      "text/html": [
       "<div>\n",
       "<style scoped>\n",
       "    .dataframe tbody tr th:only-of-type {\n",
       "        vertical-align: middle;\n",
       "    }\n",
       "\n",
       "    .dataframe tbody tr th {\n",
       "        vertical-align: top;\n",
       "    }\n",
       "\n",
       "    .dataframe thead th {\n",
       "        text-align: right;\n",
       "    }\n",
       "</style>\n",
       "<table border=\"1\" class=\"dataframe\">\n",
       "  <thead>\n",
       "    <tr style=\"text-align: right;\">\n",
       "      <th></th>\n",
       "      <th>title</th>\n",
       "      <th>description</th>\n",
       "      <th>book_id</th>\n",
       "      <th>language</th>\n",
       "      <th>pages</th>\n",
       "      <th>authors</th>\n",
       "      <th>rating</th>\n",
       "      <th>rating_count</th>\n",
       "      <th>review_count</th>\n",
       "      <th>shelves</th>\n",
       "    </tr>\n",
       "  </thead>\n",
       "  <tbody>\n",
       "    <tr>\n",
       "      <th>1</th>\n",
       "      <td>Slake's Limbo: 121 Days</td>\n",
       "      <td>[An ALA Best Books for Young Adults An ALA Not...</td>\n",
       "      <td>1038268.Slake_s_Limbo</td>\n",
       "      <td>English</td>\n",
       "      <td>128</td>\n",
       "      <td>[Felice Holman]</td>\n",
       "      <td>3.49</td>\n",
       "      <td>[\\n  , \\n  631\\n  ratings\\n]</td>\n",
       "      <td>[\\n    , \\n    86\\n    reviews\\n]</td>\n",
       "      <td>[Young Adult, 18 users, Fiction, 18 users, Rea...</td>\n",
       "    </tr>\n",
       "    <tr>\n",
       "      <th>2</th>\n",
       "      <td>Going Solo</td>\n",
       "      <td>[Superb Stories, Daring Deeds, Fantastic Adven...</td>\n",
       "      <td>6678.Going_Solo</td>\n",
       "      <td>English</td>\n",
       "      <td>209</td>\n",
       "      <td>[Roald Dahl, Quentin Blake]</td>\n",
       "      <td>4.08</td>\n",
       "      <td>[\\n  , \\n  22,355\\n  ratings\\n]</td>\n",
       "      <td>[\\n    , \\n    1,399\\n    reviews\\n]</td>\n",
       "      <td>[Nonfiction, 444 users, Biography, 280 users, ...</td>\n",
       "    </tr>\n",
       "    <tr>\n",
       "      <th>3</th>\n",
       "      <td>Chronicle of a Blood Merchant</td>\n",
       "      <td>[One of the last decade's ten most influential...</td>\n",
       "      <td>334970.Chronicle_of_a_Blood_Merchant</td>\n",
       "      <td>English</td>\n",
       "      <td>263</td>\n",
       "      <td>[Yu Hua, Andrew Jones]</td>\n",
       "      <td>4.06</td>\n",
       "      <td>[\\n  , \\n  3,097\\n  ratings\\n]</td>\n",
       "      <td>[\\n    , \\n    358\\n    reviews\\n]</td>\n",
       "      <td>[Cultural, China, 96 users, Fiction, 89 users,...</td>\n",
       "    </tr>\n",
       "    <tr>\n",
       "      <th>5</th>\n",
       "      <td>The Unholy Cause</td>\n",
       "      <td>[A  Supernatural  novel that reveals a previou...</td>\n",
       "      <td>6767583-the-unholy-cause</td>\n",
       "      <td>English</td>\n",
       "      <td>320</td>\n",
       "      <td>[Joe Schreiber]</td>\n",
       "      <td>4.11</td>\n",
       "      <td>[\\n  , \\n  2,274\\n  ratings\\n]</td>\n",
       "      <td>[\\n    , \\n    136\\n    reviews\\n]</td>\n",
       "      <td>[Fantasy, Supernatural, 239 users, Fantasy, 51...</td>\n",
       "    </tr>\n",
       "    <tr>\n",
       "      <th>6</th>\n",
       "      <td>She Said!: The Book of Quotes</td>\n",
       "      <td>[\"She Said!\" is my ode to words, in the form o...</td>\n",
       "      <td>42088819-she-said</td>\n",
       "      <td>English</td>\n",
       "      <td>124</td>\n",
       "      <td>[Chriselda Barretto]</td>\n",
       "      <td>4.19</td>\n",
       "      <td>[\\n  , \\n  373\\n  ratings\\n]</td>\n",
       "      <td>[\\n    , \\n    7\\n    reviews\\n]</td>\n",
       "      <td>[Adult, 21 users, New Adult, 20 users, Fiction...</td>\n",
       "    </tr>\n",
       "  </tbody>\n",
       "</table>\n",
       "</div>"
      ],
      "text/plain": [
       "                           title  \\\n",
       "1        Slake's Limbo: 121 Days   \n",
       "2                     Going Solo   \n",
       "3  Chronicle of a Blood Merchant   \n",
       "5               The Unholy Cause   \n",
       "6  She Said!: The Book of Quotes   \n",
       "\n",
       "                                         description  \\\n",
       "1  [An ALA Best Books for Young Adults An ALA Not...   \n",
       "2  [Superb Stories, Daring Deeds, Fantastic Adven...   \n",
       "3  [One of the last decade's ten most influential...   \n",
       "5  [A  Supernatural  novel that reveals a previou...   \n",
       "6  [\"She Said!\" is my ode to words, in the form o...   \n",
       "\n",
       "                                book_id language pages  \\\n",
       "1                 1038268.Slake_s_Limbo  English   128   \n",
       "2                       6678.Going_Solo  English   209   \n",
       "3  334970.Chronicle_of_a_Blood_Merchant  English   263   \n",
       "5              6767583-the-unholy-cause  English   320   \n",
       "6                     42088819-she-said  English   124   \n",
       "\n",
       "                       authors rating                     rating_count  \\\n",
       "1              [Felice Holman]   3.49     [\\n  , \\n  631\\n  ratings\\n]   \n",
       "2  [Roald Dahl, Quentin Blake]   4.08  [\\n  , \\n  22,355\\n  ratings\\n]   \n",
       "3       [Yu Hua, Andrew Jones]   4.06   [\\n  , \\n  3,097\\n  ratings\\n]   \n",
       "5              [Joe Schreiber]   4.11   [\\n  , \\n  2,274\\n  ratings\\n]   \n",
       "6         [Chriselda Barretto]   4.19     [\\n  , \\n  373\\n  ratings\\n]   \n",
       "\n",
       "                           review_count  \\\n",
       "1     [\\n    , \\n    86\\n    reviews\\n]   \n",
       "2  [\\n    , \\n    1,399\\n    reviews\\n]   \n",
       "3    [\\n    , \\n    358\\n    reviews\\n]   \n",
       "5    [\\n    , \\n    136\\n    reviews\\n]   \n",
       "6      [\\n    , \\n    7\\n    reviews\\n]   \n",
       "\n",
       "                                             shelves  \n",
       "1  [Young Adult, 18 users, Fiction, 18 users, Rea...  \n",
       "2  [Nonfiction, 444 users, Biography, 280 users, ...  \n",
       "3  [Cultural, China, 96 users, Fiction, 89 users,...  \n",
       "5  [Fantasy, Supernatural, 239 users, Fantasy, 51...  \n",
       "6  [Adult, 21 users, New Adult, 20 users, Fiction...  "
      ]
     },
     "execution_count": 2,
     "metadata": {},
     "output_type": "execute_result"
    }
   ],
   "source": [
    "import pandas as pd\n",
    "\n",
    "books_df = pd.DataFrame(books)\n",
    "\n",
    "books_df = books_df.loc[books_df['description'].str.len() != 0]\n",
    "books_df = books_df.loc[books_df['shelves'].str.len() != 0]\n",
    "\n",
    "books_df['language'] = books_df['language'].astype('category')\n",
    "books_df = books_df.loc[books_df['language'] == 'English']\n",
    "\n",
    "print(len(books_df))\n",
    "books_df.head()"
   ]
  },
  {
   "cell_type": "markdown",
   "metadata": {},
   "source": [
    "A maior parte dos dados foi extraída de uma maneira mais crua, sendo necessário um pré-tratamento para facilitar a análise dos dados, convertendo algumas colunas para outros formatos e limpando a formatação."
   ]
  },
  {
   "cell_type": "code",
   "execution_count": 3,
   "metadata": {},
   "outputs": [],
   "source": [
    "import re\n",
    "\n",
    "books_df['description'] = books_df['description'].apply(lambda x:x[-1])\n",
    "books_df['book_id'] = books_df['book_id'].apply(lambda x:int(re.findall(r'\\d+', x)[0]))\n",
    "books_df['pages'] = pd.to_numeric(books_df['pages'])\n",
    "books_df['rating'] = pd.to_numeric(books_df['rating'])\n",
    "books_df['rating_count'] = books_df['rating_count'].apply(lambda x:int(re.findall(r'\\d+', x[-1].replace(',', ''))[0]))\n",
    "books_df['review_count'] = books_df['review_count'].apply(lambda x:int(re.findall(r'\\d+', x[-1].replace(',', ''))[0]))"
   ]
  },
  {
   "cell_type": "markdown",
   "metadata": {},
   "source": [
    "O gênero não é extraído da melhor maneira possível, assim é necessário uma função para retirar apenas a parte importante. Ao entramos no site do GoodReads, vemos que as vezes, um gênero é quebrado em um subgênero e o número corresponde apenas a esse sub-gênero, então queremos pegar apenas a tag do subgênero e a quantidade referente."
   ]
  },
  {
   "cell_type": "code",
   "execution_count": 4,
   "metadata": {},
   "outputs": [
    {
     "data": {
      "text/html": [
       "<div>\n",
       "<style scoped>\n",
       "    .dataframe tbody tr th:only-of-type {\n",
       "        vertical-align: middle;\n",
       "    }\n",
       "\n",
       "    .dataframe tbody tr th {\n",
       "        vertical-align: top;\n",
       "    }\n",
       "\n",
       "    .dataframe thead th {\n",
       "        text-align: right;\n",
       "    }\n",
       "</style>\n",
       "<table border=\"1\" class=\"dataframe\">\n",
       "  <thead>\n",
       "    <tr style=\"text-align: right;\">\n",
       "      <th></th>\n",
       "      <th>title</th>\n",
       "      <th>description</th>\n",
       "      <th>book_id</th>\n",
       "      <th>language</th>\n",
       "      <th>pages</th>\n",
       "      <th>authors</th>\n",
       "      <th>rating</th>\n",
       "      <th>rating_count</th>\n",
       "      <th>review_count</th>\n",
       "      <th>shelves</th>\n",
       "    </tr>\n",
       "  </thead>\n",
       "  <tbody>\n",
       "    <tr>\n",
       "      <th>1</th>\n",
       "      <td>Slake's Limbo: 121 Days</td>\n",
       "      <td>An ALA Best Books for Young Adults An ALA Nota...</td>\n",
       "      <td>1038268</td>\n",
       "      <td>English</td>\n",
       "      <td>128.0</td>\n",
       "      <td>[Felice Holman]</td>\n",
       "      <td>3.49</td>\n",
       "      <td>631</td>\n",
       "      <td>86</td>\n",
       "      <td>{'Young Adult': '18', 'Fiction': '18', 'Realis...</td>\n",
       "    </tr>\n",
       "    <tr>\n",
       "      <th>2</th>\n",
       "      <td>Going Solo</td>\n",
       "      <td>Superb Stories, Daring Deeds, Fantastic Advent...</td>\n",
       "      <td>6678</td>\n",
       "      <td>English</td>\n",
       "      <td>209.0</td>\n",
       "      <td>[Roald Dahl, Quentin Blake]</td>\n",
       "      <td>4.08</td>\n",
       "      <td>22355</td>\n",
       "      <td>1399</td>\n",
       "      <td>{'Nonfiction': '444', 'Biography': '280', 'Mem...</td>\n",
       "    </tr>\n",
       "    <tr>\n",
       "      <th>3</th>\n",
       "      <td>Chronicle of a Blood Merchant</td>\n",
       "      <td>One of the last decade's ten most influential ...</td>\n",
       "      <td>334970</td>\n",
       "      <td>English</td>\n",
       "      <td>263.0</td>\n",
       "      <td>[Yu Hua, Andrew Jones]</td>\n",
       "      <td>4.06</td>\n",
       "      <td>3097</td>\n",
       "      <td>358</td>\n",
       "      <td>{'China': '96', 'Fiction': '89', 'Historical F...</td>\n",
       "    </tr>\n",
       "    <tr>\n",
       "      <th>5</th>\n",
       "      <td>The Unholy Cause</td>\n",
       "      <td>A  Supernatural  novel that reveals a previous...</td>\n",
       "      <td>6767583</td>\n",
       "      <td>English</td>\n",
       "      <td>320.0</td>\n",
       "      <td>[Joe Schreiber]</td>\n",
       "      <td>4.11</td>\n",
       "      <td>2274</td>\n",
       "      <td>136</td>\n",
       "      <td>{'Supernatural': '239', 'Fantasy': '51', 'Para...</td>\n",
       "    </tr>\n",
       "    <tr>\n",
       "      <th>6</th>\n",
       "      <td>She Said!: The Book of Quotes</td>\n",
       "      <td>\"She Said!\" is my ode to words, in the form of...</td>\n",
       "      <td>42088819</td>\n",
       "      <td>English</td>\n",
       "      <td>124.0</td>\n",
       "      <td>[Chriselda Barretto]</td>\n",
       "      <td>4.19</td>\n",
       "      <td>373</td>\n",
       "      <td>7</td>\n",
       "      <td>{'Adult': '21', 'New Adult': '20', 'Fiction': ...</td>\n",
       "    </tr>\n",
       "  </tbody>\n",
       "</table>\n",
       "</div>"
      ],
      "text/plain": [
       "                           title  \\\n",
       "1        Slake's Limbo: 121 Days   \n",
       "2                     Going Solo   \n",
       "3  Chronicle of a Blood Merchant   \n",
       "5               The Unholy Cause   \n",
       "6  She Said!: The Book of Quotes   \n",
       "\n",
       "                                         description   book_id language  \\\n",
       "1  An ALA Best Books for Young Adults An ALA Nota...   1038268  English   \n",
       "2  Superb Stories, Daring Deeds, Fantastic Advent...      6678  English   \n",
       "3  One of the last decade's ten most influential ...    334970  English   \n",
       "5  A  Supernatural  novel that reveals a previous...   6767583  English   \n",
       "6  \"She Said!\" is my ode to words, in the form of...  42088819  English   \n",
       "\n",
       "   pages                      authors  rating  rating_count  review_count  \\\n",
       "1  128.0              [Felice Holman]    3.49           631            86   \n",
       "2  209.0  [Roald Dahl, Quentin Blake]    4.08         22355          1399   \n",
       "3  263.0       [Yu Hua, Andrew Jones]    4.06          3097           358   \n",
       "5  320.0              [Joe Schreiber]    4.11          2274           136   \n",
       "6  124.0         [Chriselda Barretto]    4.19           373             7   \n",
       "\n",
       "                                             shelves  \n",
       "1  {'Young Adult': '18', 'Fiction': '18', 'Realis...  \n",
       "2  {'Nonfiction': '444', 'Biography': '280', 'Mem...  \n",
       "3  {'China': '96', 'Fiction': '89', 'Historical F...  \n",
       "5  {'Supernatural': '239', 'Fantasy': '51', 'Para...  \n",
       "6  {'Adult': '21', 'New Adult': '20', 'Fiction': ...  "
      ]
     },
     "execution_count": 4,
     "metadata": {},
     "output_type": "execute_result"
    }
   ],
   "source": [
    "def proc_shelves(shelves):\n",
    "    string = '*'.join(shelves).replace(',','')\n",
    "    lista = re.findall(r'[\\w\\s]+\\*\\d+',string)\n",
    "    return {shelf.split('*')[0]:shelf.split('*')[1] for shelf in lista}\n",
    "books_df['shelves'] = books_df['shelves'].apply(proc_shelves)\n",
    "books_df.head()"
   ]
  },
  {
   "cell_type": "markdown",
   "metadata": {},
   "source": [
    "## Definição de gêneros\n",
    "O primeiro passo foi definir quais eram os gêneros mais populares. Ficção é um gênero muito amplo, caso fosse escolhido, só faria sentido em um contexto de classificação binária entre ficção e não ficção, o que novamente\n",
    "voltaria para o contexto de classes desbalanceadas. O mesmo se aplica para não ficção, assim esses gêneros foram descartados da análise. Audiolivros é um tipo de gênero referente ao formato e não ao conteúdo do livro. Esse tipo de análise não faz sentido no contexto do trabalho, pois o objetivo é indicar se a descrição fornece pistas do gênero do livro pensado como uma maneira de categorizar assuntos, assim foi descartado. Adulto e jovem adulto são gêneros que dizem respeito ao público para qual o livro se destina, portanto é possível existir um livro de mistério para adultos, assim como um livro de mistério para jovens adultos. Portanto, no contexto do presente trabalho, foram descartados."
   ]
  },
  {
   "cell_type": "code",
   "execution_count": 5,
   "metadata": {},
   "outputs": [
    {
     "data": {
      "text/plain": [
       "[('Fiction', 28886),\n",
       " ('Fantasy', 14272),\n",
       " ('Romance', 14115),\n",
       " ('Young Adult', 10770),\n",
       " ('Contemporary', 9365),\n",
       " ('Adult', 8514),\n",
       " ('Mystery', 7754),\n",
       " ('Audiobook', 7661),\n",
       " ('Historical Fiction', 7182),\n",
       " ('Nonfiction', 6973)]"
      ]
     },
     "execution_count": 5,
     "metadata": {},
     "output_type": "execute_result"
    }
   ],
   "source": [
    "from collections import Counter\n",
    "from matplotlib import pyplot as plt\n",
    "\n",
    "genres = Counter([genre for row in books_df['shelves'] for genre in row])\n",
    "genres.most_common(10)"
   ]
  },
  {
   "cell_type": "markdown",
   "metadata": {},
   "source": [
    "O gênero contemporâneo também foi descartado, em uma segunda análise, pois haviam poucos livros com esse gênero.\n",
    "\n",
    "Depois foi processada a coluna shelves para que apenas as keys referentes aos gêneros selecionados estivessem presentes. E por fim foi excluído aqueles livros que não perteciam a nenhum desses gêneros."
   ]
  },
  {
   "cell_type": "code",
   "execution_count": 6,
   "metadata": {},
   "outputs": [
    {
     "data": {
      "text/html": [
       "<div>\n",
       "<style scoped>\n",
       "    .dataframe tbody tr th:only-of-type {\n",
       "        vertical-align: middle;\n",
       "    }\n",
       "\n",
       "    .dataframe tbody tr th {\n",
       "        vertical-align: top;\n",
       "    }\n",
       "\n",
       "    .dataframe thead th {\n",
       "        text-align: right;\n",
       "    }\n",
       "</style>\n",
       "<table border=\"1\" class=\"dataframe\">\n",
       "  <thead>\n",
       "    <tr style=\"text-align: right;\">\n",
       "      <th></th>\n",
       "      <th>title</th>\n",
       "      <th>description</th>\n",
       "      <th>book_id</th>\n",
       "      <th>language</th>\n",
       "      <th>pages</th>\n",
       "      <th>authors</th>\n",
       "      <th>rating</th>\n",
       "      <th>rating_count</th>\n",
       "      <th>review_count</th>\n",
       "      <th>shelves</th>\n",
       "    </tr>\n",
       "  </thead>\n",
       "  <tbody>\n",
       "    <tr>\n",
       "      <th>3</th>\n",
       "      <td>Chronicle of a Blood Merchant</td>\n",
       "      <td>One of the last decade's ten most influential ...</td>\n",
       "      <td>334970</td>\n",
       "      <td>English</td>\n",
       "      <td>263.0</td>\n",
       "      <td>[Yu Hua, Andrew Jones]</td>\n",
       "      <td>4.06</td>\n",
       "      <td>3097</td>\n",
       "      <td>358</td>\n",
       "      <td>{'Historical Fiction': 43}</td>\n",
       "    </tr>\n",
       "    <tr>\n",
       "      <th>5</th>\n",
       "      <td>The Unholy Cause</td>\n",
       "      <td>A  Supernatural  novel that reveals a previous...</td>\n",
       "      <td>6767583</td>\n",
       "      <td>English</td>\n",
       "      <td>320.0</td>\n",
       "      <td>[Joe Schreiber]</td>\n",
       "      <td>4.11</td>\n",
       "      <td>2274</td>\n",
       "      <td>136</td>\n",
       "      <td>{'Fantasy': 51, 'Mystery': 10}</td>\n",
       "    </tr>\n",
       "    <tr>\n",
       "      <th>7</th>\n",
       "      <td>Nothing to Lose</td>\n",
       "      <td>Two lonely towns in Colorado: Hope and Despair...</td>\n",
       "      <td>2211221</td>\n",
       "      <td>English</td>\n",
       "      <td>416.0</td>\n",
       "      <td>[Lee Child]</td>\n",
       "      <td>3.92</td>\n",
       "      <td>53966</td>\n",
       "      <td>2565</td>\n",
       "      <td>{'Mystery': 407}</td>\n",
       "    </tr>\n",
       "    <tr>\n",
       "      <th>10</th>\n",
       "      <td>The Secret Adversary</td>\n",
       "      <td>Tommy Beresford and Prudence 'Tuppence' Cowley...</td>\n",
       "      <td>49596</td>\n",
       "      <td>English</td>\n",
       "      <td>268.0</td>\n",
       "      <td>[Agatha Christie]</td>\n",
       "      <td>3.85</td>\n",
       "      <td>41175</td>\n",
       "      <td>3012</td>\n",
       "      <td>{'Mystery': 2107}</td>\n",
       "    </tr>\n",
       "    <tr>\n",
       "      <th>12</th>\n",
       "      <td>King's Arrow</td>\n",
       "      <td>Angus M'Kethe, brave Duncan's younger brother,...</td>\n",
       "      <td>216658</td>\n",
       "      <td>English</td>\n",
       "      <td>215.0</td>\n",
       "      <td>[Douglas Bond, Matthew Bird]</td>\n",
       "      <td>4.23</td>\n",
       "      <td>487</td>\n",
       "      <td>15</td>\n",
       "      <td>{'Historical Fiction': 40}</td>\n",
       "    </tr>\n",
       "  </tbody>\n",
       "</table>\n",
       "</div>"
      ],
      "text/plain": [
       "                            title  \\\n",
       "3   Chronicle of a Blood Merchant   \n",
       "5                The Unholy Cause   \n",
       "7                 Nothing to Lose   \n",
       "10           The Secret Adversary   \n",
       "12                   King's Arrow   \n",
       "\n",
       "                                          description  book_id language  \\\n",
       "3   One of the last decade's ten most influential ...   334970  English   \n",
       "5   A  Supernatural  novel that reveals a previous...  6767583  English   \n",
       "7   Two lonely towns in Colorado: Hope and Despair...  2211221  English   \n",
       "10  Tommy Beresford and Prudence 'Tuppence' Cowley...    49596  English   \n",
       "12  Angus M'Kethe, brave Duncan's younger brother,...   216658  English   \n",
       "\n",
       "    pages                       authors  rating  rating_count  review_count  \\\n",
       "3   263.0        [Yu Hua, Andrew Jones]    4.06          3097           358   \n",
       "5   320.0               [Joe Schreiber]    4.11          2274           136   \n",
       "7   416.0                   [Lee Child]    3.92         53966          2565   \n",
       "10  268.0             [Agatha Christie]    3.85         41175          3012   \n",
       "12  215.0  [Douglas Bond, Matthew Bird]    4.23           487            15   \n",
       "\n",
       "                           shelves  \n",
       "3       {'Historical Fiction': 43}  \n",
       "5   {'Fantasy': 51, 'Mystery': 10}  \n",
       "7                 {'Mystery': 407}  \n",
       "10               {'Mystery': 2107}  \n",
       "12      {'Historical Fiction': 40}  "
      ]
     },
     "execution_count": 6,
     "metadata": {},
     "output_type": "execute_result"
    }
   ],
   "source": [
    "most_common = {'Fantasy', 'Mystery', 'Romance', 'Historical Fiction'}\n",
    "\n",
    "def select_shelves(shelves):\n",
    "    return {k:int(v) for k,v in shelves.items() if k in most_common}\n",
    "\n",
    "books_df['shelves'] = books_df['shelves'].apply(select_shelves)\n",
    "books_df = books_df.loc[books_df['shelves'].str.len() != 0]\n",
    "books_df.head()"
   ]
  },
  {
   "cell_type": "code",
   "execution_count": 7,
   "metadata": {},
   "outputs": [
    {
     "data": {
      "text/plain": [
       "29143"
      ]
     },
     "execution_count": 7,
     "metadata": {},
     "output_type": "execute_result"
    }
   ],
   "source": [
    "len(books_df)"
   ]
  },
  {
   "cell_type": "markdown",
   "metadata": {},
   "source": [
    "Por fim, foi definido como gênero principal, aquele com maior número de votos, já que alguns dos livros poderiam ter votos em mais de um gênero."
   ]
  },
  {
   "cell_type": "code",
   "execution_count": 8,
   "metadata": {},
   "outputs": [],
   "source": [
    "books_df['fantasy'] = books_df['shelves'].apply(lambda x:x.get('Fantasy', 0))\n",
    "books_df['historical'] = books_df['shelves'].apply(lambda x:x.get('Historical Fiction', 0))\n",
    "books_df['mistery'] = books_df['shelves'].apply(lambda x:x.get('Mystery', 0))\n",
    "books_df['romance'] = books_df['shelves'].apply(lambda x:x.get('Romance', 0))\n",
    "books_df['genre'] = books_df['shelves'].apply(lambda x:max(x, key=x.get))\n",
    "books_df['max'] = books_df['shelves'].apply(lambda x:max(x.values()))"
   ]
  },
  {
   "cell_type": "code",
   "execution_count": 9,
   "metadata": {},
   "outputs": [
    {
     "data": {
      "text/html": [
       "<div>\n",
       "<style scoped>\n",
       "    .dataframe tbody tr th:only-of-type {\n",
       "        vertical-align: middle;\n",
       "    }\n",
       "\n",
       "    .dataframe tbody tr th {\n",
       "        vertical-align: top;\n",
       "    }\n",
       "\n",
       "    .dataframe thead th {\n",
       "        text-align: right;\n",
       "    }\n",
       "</style>\n",
       "<table border=\"1\" class=\"dataframe\">\n",
       "  <thead>\n",
       "    <tr style=\"text-align: right;\">\n",
       "      <th></th>\n",
       "      <th>index</th>\n",
       "      <th>title</th>\n",
       "      <th>description</th>\n",
       "      <th>book_id</th>\n",
       "      <th>language</th>\n",
       "      <th>pages</th>\n",
       "      <th>authors</th>\n",
       "      <th>rating</th>\n",
       "      <th>rating_count</th>\n",
       "      <th>review_count</th>\n",
       "      <th>shelves</th>\n",
       "      <th>fantasy</th>\n",
       "      <th>historical</th>\n",
       "      <th>mistery</th>\n",
       "      <th>romance</th>\n",
       "      <th>genre</th>\n",
       "      <th>max</th>\n",
       "    </tr>\n",
       "  </thead>\n",
       "  <tbody>\n",
       "    <tr>\n",
       "      <th>0</th>\n",
       "      <td>3</td>\n",
       "      <td>Chronicle of a Blood Merchant</td>\n",
       "      <td>One of the last decade's ten most influential ...</td>\n",
       "      <td>334970</td>\n",
       "      <td>English</td>\n",
       "      <td>263.0</td>\n",
       "      <td>[Yu Hua, Andrew Jones]</td>\n",
       "      <td>4.06</td>\n",
       "      <td>3097</td>\n",
       "      <td>358</td>\n",
       "      <td>{'Historical Fiction': 43}</td>\n",
       "      <td>0</td>\n",
       "      <td>43</td>\n",
       "      <td>0</td>\n",
       "      <td>0</td>\n",
       "      <td>Historical</td>\n",
       "      <td>43</td>\n",
       "    </tr>\n",
       "    <tr>\n",
       "      <th>1</th>\n",
       "      <td>5</td>\n",
       "      <td>The Unholy Cause</td>\n",
       "      <td>A  Supernatural  novel that reveals a previous...</td>\n",
       "      <td>6767583</td>\n",
       "      <td>English</td>\n",
       "      <td>320.0</td>\n",
       "      <td>[Joe Schreiber]</td>\n",
       "      <td>4.11</td>\n",
       "      <td>2274</td>\n",
       "      <td>136</td>\n",
       "      <td>{'Fantasy': 51, 'Mystery': 10}</td>\n",
       "      <td>51</td>\n",
       "      <td>0</td>\n",
       "      <td>10</td>\n",
       "      <td>0</td>\n",
       "      <td>Fantasy</td>\n",
       "      <td>51</td>\n",
       "    </tr>\n",
       "    <tr>\n",
       "      <th>2</th>\n",
       "      <td>7</td>\n",
       "      <td>Nothing to Lose</td>\n",
       "      <td>Two lonely towns in Colorado: Hope and Despair...</td>\n",
       "      <td>2211221</td>\n",
       "      <td>English</td>\n",
       "      <td>416.0</td>\n",
       "      <td>[Lee Child]</td>\n",
       "      <td>3.92</td>\n",
       "      <td>53966</td>\n",
       "      <td>2565</td>\n",
       "      <td>{'Mystery': 407}</td>\n",
       "      <td>0</td>\n",
       "      <td>0</td>\n",
       "      <td>407</td>\n",
       "      <td>0</td>\n",
       "      <td>Mystery</td>\n",
       "      <td>407</td>\n",
       "    </tr>\n",
       "    <tr>\n",
       "      <th>3</th>\n",
       "      <td>10</td>\n",
       "      <td>The Secret Adversary</td>\n",
       "      <td>Tommy Beresford and Prudence 'Tuppence' Cowley...</td>\n",
       "      <td>49596</td>\n",
       "      <td>English</td>\n",
       "      <td>268.0</td>\n",
       "      <td>[Agatha Christie]</td>\n",
       "      <td>3.85</td>\n",
       "      <td>41175</td>\n",
       "      <td>3012</td>\n",
       "      <td>{'Mystery': 2107}</td>\n",
       "      <td>0</td>\n",
       "      <td>0</td>\n",
       "      <td>2107</td>\n",
       "      <td>0</td>\n",
       "      <td>Mystery</td>\n",
       "      <td>2107</td>\n",
       "    </tr>\n",
       "    <tr>\n",
       "      <th>4</th>\n",
       "      <td>12</td>\n",
       "      <td>King's Arrow</td>\n",
       "      <td>Angus M'Kethe, brave Duncan's younger brother,...</td>\n",
       "      <td>216658</td>\n",
       "      <td>English</td>\n",
       "      <td>215.0</td>\n",
       "      <td>[Douglas Bond, Matthew Bird]</td>\n",
       "      <td>4.23</td>\n",
       "      <td>487</td>\n",
       "      <td>15</td>\n",
       "      <td>{'Historical Fiction': 40}</td>\n",
       "      <td>0</td>\n",
       "      <td>40</td>\n",
       "      <td>0</td>\n",
       "      <td>0</td>\n",
       "      <td>Historical</td>\n",
       "      <td>40</td>\n",
       "    </tr>\n",
       "  </tbody>\n",
       "</table>\n",
       "</div>"
      ],
      "text/plain": [
       "   index                          title  \\\n",
       "0      3  Chronicle of a Blood Merchant   \n",
       "1      5               The Unholy Cause   \n",
       "2      7                Nothing to Lose   \n",
       "3     10           The Secret Adversary   \n",
       "4     12                   King's Arrow   \n",
       "\n",
       "                                         description  book_id language  pages  \\\n",
       "0  One of the last decade's ten most influential ...   334970  English  263.0   \n",
       "1  A  Supernatural  novel that reveals a previous...  6767583  English  320.0   \n",
       "2  Two lonely towns in Colorado: Hope and Despair...  2211221  English  416.0   \n",
       "3  Tommy Beresford and Prudence 'Tuppence' Cowley...    49596  English  268.0   \n",
       "4  Angus M'Kethe, brave Duncan's younger brother,...   216658  English  215.0   \n",
       "\n",
       "                        authors  rating  rating_count  review_count  \\\n",
       "0        [Yu Hua, Andrew Jones]    4.06          3097           358   \n",
       "1               [Joe Schreiber]    4.11          2274           136   \n",
       "2                   [Lee Child]    3.92         53966          2565   \n",
       "3             [Agatha Christie]    3.85         41175          3012   \n",
       "4  [Douglas Bond, Matthew Bird]    4.23           487            15   \n",
       "\n",
       "                          shelves  fantasy  historical  mistery  romance  \\\n",
       "0      {'Historical Fiction': 43}        0          43        0        0   \n",
       "1  {'Fantasy': 51, 'Mystery': 10}       51           0       10        0   \n",
       "2                {'Mystery': 407}        0           0      407        0   \n",
       "3               {'Mystery': 2107}        0           0     2107        0   \n",
       "4      {'Historical Fiction': 40}        0          40        0        0   \n",
       "\n",
       "        genre   max  \n",
       "0  Historical    43  \n",
       "1     Fantasy    51  \n",
       "2     Mystery   407  \n",
       "3     Mystery  2107  \n",
       "4  Historical    40  "
      ]
     },
     "execution_count": 9,
     "metadata": {},
     "output_type": "execute_result"
    }
   ],
   "source": [
    "books_df.loc[books_df['genre'] == 'Historical Fiction','genre'] = 'Historical'\n",
    "books_df['genre'] = books_df['genre'].astype('category')\n",
    "books_df = books_df.reset_index()\n",
    "books_df.head()"
   ]
  },
  {
   "cell_type": "markdown",
   "metadata": {},
   "source": [
    "Depois disso, foi analisado o número de votos recebido pelo gênero principal, com o objetivo de avaliar se haveria livros com poucos votos, o que diminuiria a certeza daquela classificação. O histograma permite perceber que 10% da base possui menos de 4 votos por classificação. Apesar disso, em ambos os casos considerou-se que não havia a necessidade de fazer algum corte, sendo apenas um ponto de atenção ao analisar os resultados."
   ]
  },
  {
   "cell_type": "code",
   "execution_count": 10,
   "metadata": {},
   "outputs": [
    {
     "data": {
      "text/plain": [
       "count    29143.000000\n",
       "mean       425.686203\n",
       "std       1537.089004\n",
       "min          2.000000\n",
       "25%         23.000000\n",
       "50%         88.000000\n",
       "75%        345.500000\n",
       "max      61452.000000\n",
       "Name: max, dtype: float64"
      ]
     },
     "execution_count": 10,
     "metadata": {},
     "output_type": "execute_result"
    }
   ],
   "source": [
    "books_df['max'].describe()"
   ]
  },
  {
   "cell_type": "code",
   "execution_count": 11,
   "metadata": {},
   "outputs": [
    {
     "data": {
      "text/plain": [
       "<AxesSubplot:ylabel='Frequency'>"
      ]
     },
     "execution_count": 11,
     "metadata": {},
     "output_type": "execute_result"
    },
    {
     "data": {
      "image/png": "[encoded data removed]",
      "text/plain": [
       "<Figure size 432x288 with 1 Axes>"
      ]
     },
     "metadata": {
      "needs_background": "light"
     },
     "output_type": "display_data"
    }
   ],
   "source": [
    "books_df.loc[books_df['max']<23, 'max'].plot(kind='hist')"
   ]
  },
  {
   "cell_type": "markdown",
   "metadata": {},
   "source": [
    "Ao final, é possível observar a distribuição de quatidade de livros por gênero. Fantasia é o gênero com maior quantidade de livros e podemos perceber que a base não é perfeitamente balanceada."
   ]
  },
  {
   "cell_type": "code",
   "execution_count": 12,
   "metadata": {},
   "outputs": [
    {
     "data": {
      "image/png": "[encoded data removed]",
      "text/plain": [
       "<Figure size 432x288 with 1 Axes>"
      ]
     },
     "metadata": {},
     "output_type": "display_data"
    }
   ],
   "source": [
    "import seaborn as sns\n",
    "sns.set_style(\"darkgrid\")\n",
    "\n",
    "books_df['genre'].value_counts().plot(kind='barh')\n",
    "plt.xlabel('Quantidade de livros')\n",
    "plt.title('Livros por Gênero')\n",
    "#plt.savefig('livro_genero.png', format='png')"
   ]
  },
  {
   "cell_type": "markdown",
   "metadata": {},
   "source": [
    "## Analisando o tamanho das descrições\n",
    "\n",
    "Como a descrição do livro será a informação usada como preditor na rede neural foi necessário dedicar um tempo à sua análise. Antes de usar a descrição em um RNN, é necessário garantir que todas tenha o mesmo formato e comprimento. Usar inputs com um comprimento fixo facilita o treinamento, já que os pesos permanecem mais estáveis. Assim, é necessário primeiro determinar qual o comprimento ideal. Para isso foram analisados os gráficos abaixo:"
   ]
  },
  {
   "cell_type": "code",
   "execution_count": 13,
   "metadata": {},
   "outputs": [
    {
     "data": {
      "text/plain": [
       "Text(0.5, 1.0, 'Histograma de tamanho das descrições')"
      ]
     },
     "execution_count": 13,
     "metadata": {},
     "output_type": "execute_result"
    },
    {
     "data": {
      "image/png": "[encoded data removed]",
      "text/plain": [
       "<Figure size 432x288 with 1 Axes>"
      ]
     },
     "metadata": {},
     "output_type": "display_data"
    }
   ],
   "source": [
    "sns.histplot(books_df['description'].apply(lambda x: len(x.split())), bins=30)\n",
    "plt.xlabel('Número de Palavras')\n",
    "plt.ylabel('Quantidade de livros')\n",
    "plt.xlim([0,1000])\n",
    "plt.title('Histograma de tamanho das descrições')\n",
    "#plt.savefig('desc_hist.png', format='png')"
   ]
  },
  {
   "cell_type": "code",
   "execution_count": 14,
   "metadata": {},
   "outputs": [
    {
     "name": "stderr",
     "output_type": "stream",
     "text": [
      "/home/aguilartaina/.local/share/virtualenvs/TCC-1cunMaiW/lib/python3.8/site-packages/seaborn/_decorators.py:36: FutureWarning: Pass the following variables as keyword args: x, y. From version 0.12, the only valid positional argument will be `data`, and passing other arguments without an explicit keyword will result in an error or misinterpretation.\n",
      "  warnings.warn(\n"
     ]
    },
    {
     "data": {
      "text/plain": [
       "Text(0.5, 1.0, 'Distribuição cumulativa do tamanho das descrições')"
      ]
     },
     "execution_count": 14,
     "metadata": {},
     "output_type": "execute_result"
    },
    {
     "data": {
      "image/png": "[encoded data removed]",
      "text/plain": [
       "<Figure size 432x288 with 1 Axes>"
      ]
     },
     "metadata": {},
     "output_type": "display_data"
    }
   ],
   "source": [
    "s = books_df['description'].apply(lambda x: len(x.split())).sort_values(ignore_index=True)\n",
    "sns.lineplot(s, s.index)\n",
    "plt.xlabel('Número de Palavras')\n",
    "plt.ylabel('Quantidade de livros')\n",
    "plt.xlim([0,1000])\n",
    "plt.title('Distribuição cumulativa do tamanho das descrições')\n",
    "#plt.savefig('desc_cum.png', format='png')"
   ]
  },
  {
   "cell_type": "markdown",
   "metadata": {},
   "source": [
    "Por fim, foi analisada a matriz de correlação entre os gêneros, para verificar se é válido\n",
    "manter todos ou se existe gêneros que estão relacionados."
   ]
  },
  {
   "cell_type": "code",
   "execution_count": 16,
   "metadata": {},
   "outputs": [
    {
     "data": {
      "text/html": [
       "<div>\n",
       "<style scoped>\n",
       "    .dataframe tbody tr th:only-of-type {\n",
       "        vertical-align: middle;\n",
       "    }\n",
       "\n",
       "    .dataframe tbody tr th {\n",
       "        vertical-align: top;\n",
       "    }\n",
       "\n",
       "    .dataframe thead th {\n",
       "        text-align: right;\n",
       "    }\n",
       "</style>\n",
       "<table border=\"1\" class=\"dataframe\">\n",
       "  <thead>\n",
       "    <tr style=\"text-align: right;\">\n",
       "      <th></th>\n",
       "      <th>fantasy</th>\n",
       "      <th>historical</th>\n",
       "      <th>mistery</th>\n",
       "      <th>romance</th>\n",
       "    </tr>\n",
       "  </thead>\n",
       "  <tbody>\n",
       "    <tr>\n",
       "      <th>fantasy</th>\n",
       "      <td>1.000000</td>\n",
       "      <td>-0.363323</td>\n",
       "      <td>-0.327287</td>\n",
       "      <td>-0.342259</td>\n",
       "    </tr>\n",
       "    <tr>\n",
       "      <th>historical</th>\n",
       "      <td>-0.363323</td>\n",
       "      <td>1.000000</td>\n",
       "      <td>-0.146479</td>\n",
       "      <td>-0.250634</td>\n",
       "    </tr>\n",
       "    <tr>\n",
       "      <th>mistery</th>\n",
       "      <td>-0.327287</td>\n",
       "      <td>-0.146479</td>\n",
       "      <td>1.000000</td>\n",
       "      <td>-0.298473</td>\n",
       "    </tr>\n",
       "    <tr>\n",
       "      <th>romance</th>\n",
       "      <td>-0.342259</td>\n",
       "      <td>-0.250634</td>\n",
       "      <td>-0.298473</td>\n",
       "      <td>1.000000</td>\n",
       "    </tr>\n",
       "  </tbody>\n",
       "</table>\n",
       "</div>"
      ],
      "text/plain": [
       "             fantasy  historical   mistery   romance\n",
       "fantasy     1.000000   -0.363323 -0.327287 -0.342259\n",
       "historical -0.363323    1.000000 -0.146479 -0.250634\n",
       "mistery    -0.327287   -0.146479  1.000000 -0.298473\n",
       "romance    -0.342259   -0.250634 -0.298473  1.000000"
      ]
     },
     "execution_count": 16,
     "metadata": {},
     "output_type": "execute_result"
    }
   ],
   "source": [
    "books_df[['fantasy','historical','mistery','romance']].divide(books_df['max'], axis=0).corr()"
   ]
  },
  {
   "cell_type": "markdown",
   "metadata": {},
   "source": [
    "## Salvando os arquivos tratados\n",
    "\n",
    "As informações de descrição e gênero foram salvas em csv, para o treinamento do modelo no ambiente do Colab."
   ]
  },
  {
   "cell_type": "code",
   "execution_count": 15,
   "metadata": {},
   "outputs": [],
   "source": [
    "books_df.loc[:, ['description', 'genre']].to_csv('df_xlabel')"
   ]
  },
  {
   "cell_type": "markdown",
   "metadata": {},
   "source": [
    "## Analisando o resultado do modelo\n",
    "\n",
    "Após o treinamento, as predições foram salvas em um arquivo csv para serem analizadas."
   ]
  },
  {
   "cell_type": "code",
   "execution_count": 19,
   "metadata": {},
   "outputs": [],
   "source": [
    "test_df = pd.read_csv('df_test.csv', index_col=0)\n",
    "test_df = books_df.merge(test_df)\n",
    "test_df['error'] = test_df['genre'] != test_df['pred_genre']\n",
    "test_df = test_df.drop(['index', 'book_id', 'language', 'authors', 'shelves'], axis=1)"
   ]
  },
  {
   "cell_type": "markdown",
   "metadata": {},
   "source": [
    "A primeira coisa foi procurar colunas que possuiam alguma distribuição diferente entre os livros preditos de maneira correta e os livros preditos de maneira incorreta. Podemos observar uma diferença significativa na distribuição da colunas max."
   ]
  },
  {
   "cell_type": "code",
   "execution_count": 20,
   "metadata": {},
   "outputs": [
    {
     "data": {
      "text/html": [
       "<div>\n",
       "<style scoped>\n",
       "    .dataframe tbody tr th:only-of-type {\n",
       "        vertical-align: middle;\n",
       "    }\n",
       "\n",
       "    .dataframe tbody tr th {\n",
       "        vertical-align: top;\n",
       "    }\n",
       "\n",
       "    .dataframe thead th {\n",
       "        text-align: right;\n",
       "    }\n",
       "</style>\n",
       "<table border=\"1\" class=\"dataframe\">\n",
       "  <thead>\n",
       "    <tr style=\"text-align: right;\">\n",
       "      <th></th>\n",
       "      <th>pages</th>\n",
       "      <th>rating</th>\n",
       "      <th>rating_count</th>\n",
       "      <th>review_count</th>\n",
       "      <th>fantasy</th>\n",
       "      <th>historical</th>\n",
       "      <th>mistery</th>\n",
       "      <th>romance</th>\n",
       "      <th>max</th>\n",
       "    </tr>\n",
       "  </thead>\n",
       "  <tbody>\n",
       "    <tr>\n",
       "      <th>count</th>\n",
       "      <td>1270.000000</td>\n",
       "      <td>1302.000000</td>\n",
       "      <td>1.302000e+03</td>\n",
       "      <td>1302.000000</td>\n",
       "      <td>1302.000000</td>\n",
       "      <td>1302.000000</td>\n",
       "      <td>1302.000000</td>\n",
       "      <td>1302.000000</td>\n",
       "      <td>1302.000000</td>\n",
       "    </tr>\n",
       "    <tr>\n",
       "      <th>mean</th>\n",
       "      <td>347.353543</td>\n",
       "      <td>3.945061</td>\n",
       "      <td>2.436585e+04</td>\n",
       "      <td>1412.540707</td>\n",
       "      <td>104.354071</td>\n",
       "      <td>65.599078</td>\n",
       "      <td>57.689708</td>\n",
       "      <td>88.733487</td>\n",
       "      <td>235.617512</td>\n",
       "    </tr>\n",
       "    <tr>\n",
       "      <th>std</th>\n",
       "      <td>259.272633</td>\n",
       "      <td>0.279776</td>\n",
       "      <td>1.088853e+05</td>\n",
       "      <td>3833.903995</td>\n",
       "      <td>347.249515</td>\n",
       "      <td>347.816592</td>\n",
       "      <td>320.517851</td>\n",
       "      <td>305.958954</td>\n",
       "      <td>595.648309</td>\n",
       "    </tr>\n",
       "    <tr>\n",
       "      <th>min</th>\n",
       "      <td>0.000000</td>\n",
       "      <td>2.520000</td>\n",
       "      <td>1.000000e+00</td>\n",
       "      <td>1.000000</td>\n",
       "      <td>0.000000</td>\n",
       "      <td>0.000000</td>\n",
       "      <td>0.000000</td>\n",
       "      <td>0.000000</td>\n",
       "      <td>2.000000</td>\n",
       "    </tr>\n",
       "    <tr>\n",
       "      <th>25%</th>\n",
       "      <td>245.000000</td>\n",
       "      <td>3.770000</td>\n",
       "      <td>1.458250e+03</td>\n",
       "      <td>115.000000</td>\n",
       "      <td>0.000000</td>\n",
       "      <td>0.000000</td>\n",
       "      <td>0.000000</td>\n",
       "      <td>0.000000</td>\n",
       "      <td>16.000000</td>\n",
       "    </tr>\n",
       "    <tr>\n",
       "      <th>50%</th>\n",
       "      <td>325.000000</td>\n",
       "      <td>3.950000</td>\n",
       "      <td>4.778000e+03</td>\n",
       "      <td>350.000000</td>\n",
       "      <td>0.000000</td>\n",
       "      <td>0.000000</td>\n",
       "      <td>0.000000</td>\n",
       "      <td>2.000000</td>\n",
       "      <td>61.500000</td>\n",
       "    </tr>\n",
       "    <tr>\n",
       "      <th>75%</th>\n",
       "      <td>400.000000</td>\n",
       "      <td>4.140000</td>\n",
       "      <td>1.415425e+04</td>\n",
       "      <td>1063.250000</td>\n",
       "      <td>45.000000</td>\n",
       "      <td>8.000000</td>\n",
       "      <td>19.000000</td>\n",
       "      <td>57.750000</td>\n",
       "      <td>199.750000</td>\n",
       "    </tr>\n",
       "    <tr>\n",
       "      <th>max</th>\n",
       "      <td>6576.000000</td>\n",
       "      <td>5.000000</td>\n",
       "      <td>2.045636e+06</td>\n",
       "      <td>51846.000000</td>\n",
       "      <td>4894.000000</td>\n",
       "      <td>9131.000000</td>\n",
       "      <td>9161.000000</td>\n",
       "      <td>5141.000000</td>\n",
       "      <td>9161.000000</td>\n",
       "    </tr>\n",
       "  </tbody>\n",
       "</table>\n",
       "</div>"
      ],
      "text/plain": [
       "             pages       rating  rating_count  review_count      fantasy  \\\n",
       "count  1270.000000  1302.000000  1.302000e+03   1302.000000  1302.000000   \n",
       "mean    347.353543     3.945061  2.436585e+04   1412.540707   104.354071   \n",
       "std     259.272633     0.279776  1.088853e+05   3833.903995   347.249515   \n",
       "min       0.000000     2.520000  1.000000e+00      1.000000     0.000000   \n",
       "25%     245.000000     3.770000  1.458250e+03    115.000000     0.000000   \n",
       "50%     325.000000     3.950000  4.778000e+03    350.000000     0.000000   \n",
       "75%     400.000000     4.140000  1.415425e+04   1063.250000    45.000000   \n",
       "max    6576.000000     5.000000  2.045636e+06  51846.000000  4894.000000   \n",
       "\n",
       "        historical      mistery      romance          max  \n",
       "count  1302.000000  1302.000000  1302.000000  1302.000000  \n",
       "mean     65.599078    57.689708    88.733487   235.617512  \n",
       "std     347.816592   320.517851   305.958954   595.648309  \n",
       "min       0.000000     0.000000     0.000000     2.000000  \n",
       "25%       0.000000     0.000000     0.000000    16.000000  \n",
       "50%       0.000000     0.000000     2.000000    61.500000  \n",
       "75%       8.000000    19.000000    57.750000   199.750000  \n",
       "max    9131.000000  9161.000000  5141.000000  9161.000000  "
      ]
     },
     "execution_count": 20,
     "metadata": {},
     "output_type": "execute_result"
    }
   ],
   "source": [
    "test_df[test_df['error']].describe()"
   ]
  },
  {
   "cell_type": "code",
   "execution_count": 21,
   "metadata": {},
   "outputs": [
    {
     "data": {
      "text/html": [
       "<div>\n",
       "<style scoped>\n",
       "    .dataframe tbody tr th:only-of-type {\n",
       "        vertical-align: middle;\n",
       "    }\n",
       "\n",
       "    .dataframe tbody tr th {\n",
       "        vertical-align: top;\n",
       "    }\n",
       "\n",
       "    .dataframe thead th {\n",
       "        text-align: right;\n",
       "    }\n",
       "</style>\n",
       "<table border=\"1\" class=\"dataframe\">\n",
       "  <thead>\n",
       "    <tr style=\"text-align: right;\">\n",
       "      <th></th>\n",
       "      <th>pages</th>\n",
       "      <th>rating</th>\n",
       "      <th>rating_count</th>\n",
       "      <th>review_count</th>\n",
       "      <th>fantasy</th>\n",
       "      <th>historical</th>\n",
       "      <th>mistery</th>\n",
       "      <th>romance</th>\n",
       "      <th>max</th>\n",
       "    </tr>\n",
       "  </thead>\n",
       "  <tbody>\n",
       "    <tr>\n",
       "      <th>count</th>\n",
       "      <td>4473.000000</td>\n",
       "      <td>4582.000000</td>\n",
       "      <td>4.582000e+03</td>\n",
       "      <td>4582.000000</td>\n",
       "      <td>4582.000000</td>\n",
       "      <td>4582.000000</td>\n",
       "      <td>4582.000000</td>\n",
       "      <td>4582.000000</td>\n",
       "      <td>4582.000000</td>\n",
       "    </tr>\n",
       "    <tr>\n",
       "      <th>mean</th>\n",
       "      <td>345.314778</td>\n",
       "      <td>3.990567</td>\n",
       "      <td>2.647633e+04</td>\n",
       "      <td>1482.625928</td>\n",
       "      <td>277.141423</td>\n",
       "      <td>61.389568</td>\n",
       "      <td>58.820384</td>\n",
       "      <td>107.362942</td>\n",
       "      <td>449.849847</td>\n",
       "    </tr>\n",
       "    <tr>\n",
       "      <th>std</th>\n",
       "      <td>184.875673</td>\n",
       "      <td>0.266298</td>\n",
       "      <td>1.294420e+05</td>\n",
       "      <td>5104.898029</td>\n",
       "      <td>1213.910729</td>\n",
       "      <td>309.392844</td>\n",
       "      <td>276.369766</td>\n",
       "      <td>409.883552</td>\n",
       "      <td>1290.451952</td>\n",
       "    </tr>\n",
       "    <tr>\n",
       "      <th>min</th>\n",
       "      <td>0.000000</td>\n",
       "      <td>2.810000</td>\n",
       "      <td>2.000000e+00</td>\n",
       "      <td>0.000000</td>\n",
       "      <td>0.000000</td>\n",
       "      <td>0.000000</td>\n",
       "      <td>0.000000</td>\n",
       "      <td>0.000000</td>\n",
       "      <td>2.000000</td>\n",
       "    </tr>\n",
       "    <tr>\n",
       "      <th>25%</th>\n",
       "      <td>246.000000</td>\n",
       "      <td>3.820000</td>\n",
       "      <td>1.675250e+03</td>\n",
       "      <td>120.250000</td>\n",
       "      <td>0.000000</td>\n",
       "      <td>0.000000</td>\n",
       "      <td>0.000000</td>\n",
       "      <td>0.000000</td>\n",
       "      <td>26.000000</td>\n",
       "    </tr>\n",
       "    <tr>\n",
       "      <th>50%</th>\n",
       "      <td>328.000000</td>\n",
       "      <td>4.000000</td>\n",
       "      <td>5.648000e+03</td>\n",
       "      <td>358.000000</td>\n",
       "      <td>0.000000</td>\n",
       "      <td>0.000000</td>\n",
       "      <td>0.000000</td>\n",
       "      <td>0.000000</td>\n",
       "      <td>102.000000</td>\n",
       "    </tr>\n",
       "    <tr>\n",
       "      <th>75%</th>\n",
       "      <td>404.000000</td>\n",
       "      <td>4.170000</td>\n",
       "      <td>1.612825e+04</td>\n",
       "      <td>1090.250000</td>\n",
       "      <td>88.000000</td>\n",
       "      <td>0.000000</td>\n",
       "      <td>0.000000</td>\n",
       "      <td>50.000000</td>\n",
       "      <td>393.750000</td>\n",
       "    </tr>\n",
       "    <tr>\n",
       "      <th>max</th>\n",
       "      <td>2700.000000</td>\n",
       "      <td>5.000000</td>\n",
       "      <td>4.471566e+06</td>\n",
       "      <td>132746.000000</td>\n",
       "      <td>24394.000000</td>\n",
       "      <td>8455.000000</td>\n",
       "      <td>10080.000000</td>\n",
       "      <td>8884.000000</td>\n",
       "      <td>24394.000000</td>\n",
       "    </tr>\n",
       "  </tbody>\n",
       "</table>\n",
       "</div>"
      ],
      "text/plain": [
       "             pages       rating  rating_count   review_count       fantasy  \\\n",
       "count  4473.000000  4582.000000  4.582000e+03    4582.000000   4582.000000   \n",
       "mean    345.314778     3.990567  2.647633e+04    1482.625928    277.141423   \n",
       "std     184.875673     0.266298  1.294420e+05    5104.898029   1213.910729   \n",
       "min       0.000000     2.810000  2.000000e+00       0.000000      0.000000   \n",
       "25%     246.000000     3.820000  1.675250e+03     120.250000      0.000000   \n",
       "50%     328.000000     4.000000  5.648000e+03     358.000000      0.000000   \n",
       "75%     404.000000     4.170000  1.612825e+04    1090.250000     88.000000   \n",
       "max    2700.000000     5.000000  4.471566e+06  132746.000000  24394.000000   \n",
       "\n",
       "        historical       mistery      romance           max  \n",
       "count  4582.000000   4582.000000  4582.000000   4582.000000  \n",
       "mean     61.389568     58.820384   107.362942    449.849847  \n",
       "std     309.392844    276.369766   409.883552   1290.451952  \n",
       "min       0.000000      0.000000     0.000000      2.000000  \n",
       "25%       0.000000      0.000000     0.000000     26.000000  \n",
       "50%       0.000000      0.000000     0.000000    102.000000  \n",
       "75%       0.000000      0.000000    50.000000    393.750000  \n",
       "max    8455.000000  10080.000000  8884.000000  24394.000000  "
      ]
     },
     "execution_count": 21,
     "metadata": {},
     "output_type": "execute_result"
    }
   ],
   "source": [
    "test_df[~test_df['error']].describe()"
   ]
  },
  {
   "cell_type": "markdown",
   "metadata": {},
   "source": [
    "Como já foi mencionado alguns livro possuim poucos votos no gênero principal, o que poderia afetar a qualidade dos dados e, como consequência, a qualidade do modelo. O gráfico mostra que essa teoria pode estar correta, pois a distribuição de votos no gênero principal é bastante diferente nos casos de acerto e de erro na base de teste."
   ]
  },
  {
   "cell_type": "code",
   "execution_count": 22,
   "metadata": {},
   "outputs": [
    {
     "data": {
      "text/plain": [
       "(0.0, 3000.0)"
      ]
     },
     "execution_count": 22,
     "metadata": {},
     "output_type": "execute_result"
    },
    {
     "data": {
      "image/png": "[encoded data removed]",
      "text/plain": [
       "<Figure size 432x288 with 1 Axes>"
      ]
     },
     "metadata": {},
     "output_type": "display_data"
    }
   ],
   "source": [
    "sns.set_context('talk')\n",
    "sns.kdeplot(test_df[test_df['error']]['max'], color='firebrick', label='Predição incorreta', cut=0)\n",
    "sns.kdeplot(test_df[~test_df['error']]['max'], color='dimgray', label='Predição correta', cut=0)\n",
    "plt.legend()\n",
    "plt.xlabel('Votos no gênero principal')\n",
    "plt.ylabel('Função de densidade')\n",
    "plt.xlim([0,3000])\n",
    "#plt.savefig('dens_genero.png', format='png', bbox_inches='tight')"
   ]
  },
  {
   "cell_type": "markdown",
   "metadata": {},
   "source": [
    "Uma possível fonte de erro poderia ser o truncamento da descrição do livro. Pois para algumas observações, parte da informação foi perdida. Para avaliar se existiu algum impacto, comparou-se a distribuição de número de palavras tanto para livros classificados incorretamente quanto para livros classificados corretamente. Porém, é possível observar que as duas distribuições são muito parecidas, portanto o truncamento não pode ser considerado uma fonte de erro."
   ]
  },
  {
   "cell_type": "code",
   "execution_count": 23,
   "metadata": {},
   "outputs": [
    {
     "data": {
      "text/plain": [
       "(0.0, 500.0)"
      ]
     },
     "execution_count": 23,
     "metadata": {},
     "output_type": "execute_result"
    },
    {
     "data": {
      "image/png": "[encoded data removed]",
      "text/plain": [
       "<Figure size 432x288 with 1 Axes>"
      ]
     },
     "metadata": {},
     "output_type": "display_data"
    }
   ],
   "source": [
    "sns.kdeplot(test_df[test_df['error']]['description'].apply(lambda x: len(x.split())), label='Predição incorreta', color='firebrick')\n",
    "sns.kdeplot(test_df[~test_df['error']]['description'].apply(lambda x: len(x.split())), label='Predição correta', color='dimgray')\n",
    "plt.legend()\n",
    "plt.xlabel('Número de Palavras')\n",
    "plt.ylabel('Quantidade de livros')\n",
    "plt.xlim([0,500])\n",
    "#plt.title('Densidade do tamanho das descrições')\n",
    "#plt.savefig('desc_hist_err.png', format='png', bbox_inches='tight')"
   ]
  },
  {
   "cell_type": "markdown",
   "metadata": {},
   "source": [
    "Como era de se esperar, a classe com o maior número de observações obteve o melhor resultado. Livros de fantasia são previstos como livros de fantasia em 86% das vezes. Dependendo do contexto, isso pode mostrar um classificador enviesado, ou poderia ser considerado apenas um classificador muito bom em prever esse tipo de gênero. Esse é um ponto a ser avaliado de acordo com o contexto de negócio que o problema está inserido. Um ponto que poderia ser\n",
    "avaliado é se livros de fantasia realmente representam a maior parte do conjunto de livros, ou se é algo relacionado a amostra escolhida. Isso também serve como guia para definir se esse desbalanceamento de classes deveria ser corrigido."
   ]
  },
  {
   "cell_type": "code",
   "execution_count": 19,
   "metadata": {},
   "outputs": [
    {
     "data": {
      "text/html": [
       "<div>\n",
       "<style scoped>\n",
       "    .dataframe tbody tr th:only-of-type {\n",
       "        vertical-align: middle;\n",
       "    }\n",
       "\n",
       "    .dataframe tbody tr th {\n",
       "        vertical-align: top;\n",
       "    }\n",
       "\n",
       "    .dataframe thead tr th {\n",
       "        text-align: left;\n",
       "    }\n",
       "\n",
       "    .dataframe thead tr:last-of-type th {\n",
       "        text-align: right;\n",
       "    }\n",
       "</style>\n",
       "<table border=\"1\" class=\"dataframe\">\n",
       "  <thead>\n",
       "    <tr>\n",
       "      <th></th>\n",
       "      <th colspan=\"4\" halign=\"left\">pages</th>\n",
       "    </tr>\n",
       "    <tr>\n",
       "      <th>genre</th>\n",
       "      <th>Fantasy</th>\n",
       "      <th>Historical</th>\n",
       "      <th>Mystery</th>\n",
       "      <th>Romance</th>\n",
       "    </tr>\n",
       "    <tr>\n",
       "      <th>pred_genre</th>\n",
       "      <th></th>\n",
       "      <th></th>\n",
       "      <th></th>\n",
       "      <th></th>\n",
       "    </tr>\n",
       "  </thead>\n",
       "  <tbody>\n",
       "    <tr>\n",
       "      <th>Fantasy</th>\n",
       "      <td>0.862568</td>\n",
       "      <td>0.122995</td>\n",
       "      <td>0.170782</td>\n",
       "      <td>0.152709</td>\n",
       "    </tr>\n",
       "    <tr>\n",
       "      <th>Historical</th>\n",
       "      <td>0.041591</td>\n",
       "      <td>0.722995</td>\n",
       "      <td>0.047325</td>\n",
       "      <td>0.052956</td>\n",
       "    </tr>\n",
       "    <tr>\n",
       "      <th>Mystery</th>\n",
       "      <td>0.037975</td>\n",
       "      <td>0.073797</td>\n",
       "      <td>0.706790</td>\n",
       "      <td>0.054187</td>\n",
       "    </tr>\n",
       "    <tr>\n",
       "      <th>Romance</th>\n",
       "      <td>0.057866</td>\n",
       "      <td>0.080214</td>\n",
       "      <td>0.075103</td>\n",
       "      <td>0.740148</td>\n",
       "    </tr>\n",
       "  </tbody>\n",
       "</table>\n",
       "</div>"
      ],
      "text/plain": [
       "               pages                               \n",
       "genre        Fantasy Historical   Mystery   Romance\n",
       "pred_genre                                         \n",
       "Fantasy     0.862568   0.122995  0.170782  0.152709\n",
       "Historical  0.041591   0.722995  0.047325  0.052956\n",
       "Mystery     0.037975   0.073797  0.706790  0.054187\n",
       "Romance     0.057866   0.080214  0.075103  0.740148"
      ]
     },
     "execution_count": 19,
     "metadata": {},
     "output_type": "execute_result"
    }
   ],
   "source": [
    "pivot = pd.pivot_table(test_df[['pred_genre', 'genre', 'pages']], index='pred_genre', columns='genre', aggfunc='count')\n",
    "pivot/pivot.sum(axis=0)"
   ]
  },
  {
   "cell_type": "code",
   "execution_count": 20,
   "metadata": {},
   "outputs": [
    {
     "data": {
      "text/html": [
       "<div>\n",
       "<style scoped>\n",
       "    .dataframe tbody tr th:only-of-type {\n",
       "        vertical-align: middle;\n",
       "    }\n",
       "\n",
       "    .dataframe tbody tr th {\n",
       "        vertical-align: top;\n",
       "    }\n",
       "\n",
       "    .dataframe thead tr th {\n",
       "        text-align: left;\n",
       "    }\n",
       "\n",
       "    .dataframe thead tr:last-of-type th {\n",
       "        text-align: right;\n",
       "    }\n",
       "</style>\n",
       "<table border=\"1\" class=\"dataframe\">\n",
       "  <thead>\n",
       "    <tr>\n",
       "      <th></th>\n",
       "      <th colspan=\"4\" halign=\"left\">pages</th>\n",
       "    </tr>\n",
       "    <tr>\n",
       "      <th>pred_genre</th>\n",
       "      <th>Fantasy</th>\n",
       "      <th>Historical</th>\n",
       "      <th>Mystery</th>\n",
       "      <th>Romance</th>\n",
       "    </tr>\n",
       "    <tr>\n",
       "      <th>genre</th>\n",
       "      <th></th>\n",
       "      <th></th>\n",
       "      <th></th>\n",
       "      <th></th>\n",
       "    </tr>\n",
       "  </thead>\n",
       "  <tbody>\n",
       "    <tr>\n",
       "      <th>Fantasy</th>\n",
       "      <td>0.782930</td>\n",
       "      <td>0.102222</td>\n",
       "      <td>0.090517</td>\n",
       "      <td>0.086604</td>\n",
       "    </tr>\n",
       "    <tr>\n",
       "      <th>Historical</th>\n",
       "      <td>0.047189</td>\n",
       "      <td>0.751111</td>\n",
       "      <td>0.074353</td>\n",
       "      <td>0.050744</td>\n",
       "    </tr>\n",
       "    <tr>\n",
       "      <th>Mystery</th>\n",
       "      <td>0.068117</td>\n",
       "      <td>0.051111</td>\n",
       "      <td>0.740302</td>\n",
       "      <td>0.049391</td>\n",
       "    </tr>\n",
       "    <tr>\n",
       "      <th>Romance</th>\n",
       "      <td>0.101764</td>\n",
       "      <td>0.095556</td>\n",
       "      <td>0.094828</td>\n",
       "      <td>0.813261</td>\n",
       "    </tr>\n",
       "  </tbody>\n",
       "</table>\n",
       "</div>"
      ],
      "text/plain": [
       "               pages                               \n",
       "pred_genre   Fantasy Historical   Mystery   Romance\n",
       "genre                                              \n",
       "Fantasy     0.782930   0.102222  0.090517  0.086604\n",
       "Historical  0.047189   0.751111  0.074353  0.050744\n",
       "Mystery     0.068117   0.051111  0.740302  0.049391\n",
       "Romance     0.101764   0.095556  0.094828  0.813261"
      ]
     },
     "execution_count": 20,
     "metadata": {},
     "output_type": "execute_result"
    }
   ],
   "source": [
    "pivot = pd.pivot_table(test_df[['pred_genre', 'genre', 'pages']], index='genre', columns='pred_genre', aggfunc='count')\n",
    "pivot/pivot.sum(axis=0)"
   ]
  }
 ],
 "metadata": {
  "kernelspec": {
   "display_name": "Python 3",
   "language": "python",
   "name": "python3"
  },
  "language_info": {
   "codemirror_mode": {
    "name": "ipython",
    "version": 3
   },
   "file_extension": ".py",
   "mimetype": "text/x-python",
   "name": "python",
   "nbconvert_exporter": "python",
   "pygments_lexer": "ipython3",
   "version": "3.8.5"
  }
 },
 "nbformat": 4,
 "nbformat_minor": 4
}
