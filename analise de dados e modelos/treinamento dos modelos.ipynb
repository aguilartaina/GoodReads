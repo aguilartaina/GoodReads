{
  "nbformat": 4,
  "nbformat_minor": 0,
  "metadata": {
    "accelerator": "GPU",
    "colab": {
      "name": "TCC - Notebook.ipynb",
      "provenance": [],
      "collapsed_sections": []
    },
    "kernelspec": {
      "display_name": "Python 3",
      "name": "python3"
    }
  },
  "cells": [
    {
      "cell_type": "code",
      "metadata": {
        "id": "zX4Kg8DUTKWO"
      },
      "source": [
        "\n",
        "#@title Licensed under the Apache License, Version 2.0 (the \"License\");\n",
        "# you may not use this file except in compliance with the License.\n",
        "# You may obtain a copy of the License at\n",
        "#\n",
        "# https://www.apache.org/licenses/LICENSE-2.0\n",
        "#\n",
        "# Unless required by applicable law or agreed to in writing, software\n",
        "# distributed under the License is distributed on an \"AS IS\" BASIS,\n",
        "# WITHOUT WARRANTIES OR CONDITIONS OF ANY KIND, either express or implied.\n",
        "# See the License for the specific language governing permissions and\n",
        "# limitations under the License."
      ],
      "execution_count": null,
      "outputs": []
    },
    {
      "cell_type": "markdown",
      "metadata": {
        "id": "eMwqMsXY6RCW"
      },
      "source": [
        "Obs: Todo esse notebook foi rodado no ambiente do Google Colab"
      ]
    },
    {
      "cell_type": "code",
      "metadata": {
        "id": "SU3XNl3qGhkl",
        "colab": {
          "base_uri": "https://localhost:8080/"
        },
        "outputId": "ff521687-cffc-438e-cf61-01d095c82087"
      },
      "source": [
        "from google.colab import drive\n",
        "\n",
        "drive.mount('/content/gdrive')"
      ],
      "execution_count": null,
      "outputs": [
        {
          "output_type": "stream",
          "text": [
            "Mounted at /content/gdrive\n"
          ],
          "name": "stdout"
        }
      ]
    },
    {
      "cell_type": "markdown",
      "metadata": {
        "id": "g6CrZWVHRxtp"
      },
      "source": [
        "# Preparando a base para treinamento\n"
      ]
    },
    {
      "cell_type": "code",
      "metadata": {
        "id": "EAjjSpzDGvtj",
        "colab": {
          "base_uri": "https://localhost:8080/"
        },
        "outputId": "eece3e8b-1846-4dc7-d41b-6d4561907713"
      },
      "source": [
        "import pandas as pd\n",
        "\n",
        "df = pd.read_csv('/content/gdrive/My Drive/Colab Notebooks/df_xlabel', index_col=0)\n",
        "df\n",
        "X = df['description']\n",
        "df['category_id'] = df['genre'].factorize()[0]\n",
        "y = df['category_id']\n",
        "category_id_df = df[['genre', 'category_id']].drop_duplicates().sort_values('category_id')\n",
        "category_to_id = dict(category_id_df.values)\n",
        "id_to_category = dict(category_id_df[['category_id', 'genre']].values)\n",
        "y.head(), category_id_df"
      ],
      "execution_count": null,
      "outputs": [
        {
          "output_type": "execute_result",
          "data": {
            "text/plain": [
              "(3     0\n",
              " 5     1\n",
              " 7     2\n",
              " 10    2\n",
              " 12    0\n",
              " Name: category_id, dtype: int64,          genre  category_id\n",
              " 3   Historical            0\n",
              " 5      Fantasy            1\n",
              " 7      Mystery            2\n",
              " 16     Romance            3)"
            ]
          },
          "metadata": {
            "tags": []
          },
          "execution_count": 2
        }
      ]
    },
    {
      "cell_type": "code",
      "metadata": {
        "id": "mKBWor1nOFB9"
      },
      "source": [
        "from sklearn.model_selection import train_test_split\n",
        "\n",
        "X_train, X_test, y_train, y_test, indices_train, indices_test  = train_test_split(X, y, df.index, test_size=0.2, random_state = 56, stratify=y)"
      ],
      "execution_count": null,
      "outputs": []
    },
    {
      "cell_type": "code",
      "metadata": {
        "id": "_zPHPFiJGezl",
        "colab": {
          "base_uri": "https://localhost:8080/",
          "height": 221
        },
        "outputId": "e3b0fd03-6f28-4fb7-93b9-a1b13f99d84b"
      },
      "source": [
        "y_train"
      ],
      "execution_count": null,
      "outputs": [
        {
          "output_type": "execute_result",
          "data": {
            "text/plain": [
              "28538    2\n",
              "15998    1\n",
              "18190    2\n",
              "10158    1\n",
              "16548    1\n",
              "        ..\n",
              "14495    3\n",
              "52439    2\n",
              "45634    2\n",
              "4830     2\n",
              "34056    3\n",
              "Name: category_id, Length: 23314, dtype: int64"
            ]
          },
          "metadata": {
            "tags": []
          },
          "execution_count": 5
        }
      ]
    },
    {
      "cell_type": "markdown",
      "metadata": {
        "id": "BqqhmjGuAbaT"
      },
      "source": [
        "## RNN"
      ]
    },
    {
      "cell_type": "code",
      "metadata": {
        "id": "BOwsuGQQY9OL"
      },
      "source": [
        "import tensorflow as tf\n",
        "\n",
        "from tensorflow.keras.preprocessing.sequence import pad_sequences\n",
        "from tensorflow.keras.layers import Embedding, LSTM, Dense, Bidirectional, Dropout\n",
        "from tensorflow.keras.preprocessing.text import Tokenizer\n",
        "from tensorflow.keras.models import Sequential\n",
        "from tensorflow.keras.optimizers import Adam\n",
        "import numpy as np "
      ],
      "execution_count": null,
      "outputs": []
    },
    {
      "cell_type": "code",
      "metadata": {
        "id": "xRWM2V7NIxIM",
        "colab": {
          "base_uri": "https://localhost:8080/"
        },
        "outputId": "1283bd85-e296-4044-be9d-be8c38843da2"
      },
      "source": [
        "y_train_one_hot = tf.one_hot(y_train, 4)\n",
        "\n",
        "y_test_one_hot = tf.one_hot(y_test, 4)\n",
        "y_train_one_hot, y_test_one_hot"
      ],
      "execution_count": null,
      "outputs": [
        {
          "output_type": "execute_result",
          "data": {
            "text/plain": [
              "(<tf.Tensor: shape=(23314, 4), dtype=float32, numpy=\n",
              " array([[0., 0., 1., 0.],\n",
              "        [0., 1., 0., 0.],\n",
              "        [0., 0., 1., 0.],\n",
              "        ...,\n",
              "        [0., 0., 1., 0.],\n",
              "        [0., 0., 1., 0.],\n",
              "        [0., 0., 0., 1.]], dtype=float32)>,\n",
              " <tf.Tensor: shape=(5829, 4), dtype=float32, numpy=\n",
              " array([[0., 0., 0., 1.],\n",
              "        [0., 0., 0., 1.],\n",
              "        [0., 1., 0., 0.],\n",
              "        ...,\n",
              "        [1., 0., 0., 0.],\n",
              "        [0., 1., 0., 0.],\n",
              "        [1., 0., 0., 0.]], dtype=float32)>)"
            ]
          },
          "metadata": {
            "tags": []
          },
          "execution_count": 5
        }
      ]
    },
    {
      "cell_type": "markdown",
      "metadata": {
        "id": "nTN_aIfsG2CD"
      },
      "source": [
        "label_tokenizer = Tokenizer()\n",
        "label_tokenizer.fit_on_texts(y_train)\n",
        "y_train = label_tokenizer.texts_to_sequences(y_train)\n",
        "y_train = [item[0] for item in y_train]\n",
        "y_train = tf.one_hot(y_train, 4)\n",
        "\n",
        "y_test = label_tokenizer.texts_to_sequences(y_test)\n",
        "y_test = [item[0] for item in y_test]\n",
        "y_test = tf.one_hot(y_test, 4)"
      ]
    },
    {
      "cell_type": "code",
      "metadata": {
        "id": "PRnDnCW-Z7qv",
        "colab": {
          "base_uri": "https://localhost:8080/"
        },
        "outputId": "31c60326-ea14-4adf-d98e-71e7782c29bd"
      },
      "source": [
        "max_length = 200\n",
        "\n",
        "tokenizer = Tokenizer()\n",
        "tokenizer.fit_on_texts(X_train)\n",
        "vocab_size = len(tokenizer.word_index)+1\n",
        "\n",
        "X_seq_train = tokenizer.texts_to_sequences(X_train)\n",
        "X_pad_train = pad_sequences(X_seq_train, maxlen=max_length)\n",
        "\n",
        "X_seq_test = tokenizer.texts_to_sequences(X_test)\n",
        "X_pad_test = pad_sequences(X_seq_test, maxlen=max_length)\n",
        "\n",
        "X_pad_train, vocab_size"
      ],
      "execution_count": null,
      "outputs": [
        {
          "output_type": "execute_result",
          "data": {
            "text/plain": [
              "(array([[ 1826,     6,    20, ...,     5,   931,   265],\n",
              "        [    0,     0,     0, ...,   880,  5906,  6498],\n",
              "        [    0,     0,     0, ...,     7, 19344, 30629],\n",
              "        ...,\n",
              "        [    0,     0,     0, ...,   225,   170,    51],\n",
              "        [    0,     0,     0, ...,     1,   483,    41],\n",
              "        [    0,     0,     0, ...,    19,  2593, 50800]], dtype=int32), 101611)"
            ]
          },
          "metadata": {
            "tags": []
          },
          "execution_count": 6
        }
      ]
    },
    {
      "cell_type": "code",
      "metadata": {
        "id": "4e1ri68bRf9w",
        "colab": {
          "base_uri": "https://localhost:8080/",
          "height": 34
        },
        "outputId": "07e41b8b-91ec-49be-b6c7-a0c738d58321"
      },
      "source": [
        "from tqdm import tqdm\n",
        "\n",
        "embedding_vector = {}\n",
        "f = open('/content/gdrive/My Drive/Colab Notebooks/glove.6B.300d.txt')\n",
        "for line in tqdm(f):\n",
        "    value = line.split(' ')\n",
        "    word = value[0]\n",
        "    coef = np.array(value[1:],dtype = 'float32')\n",
        "    embedding_vector[word] = coef"
      ],
      "execution_count": null,
      "outputs": [
        {
          "output_type": "stream",
          "text": [
            "400000it [00:39, 10005.10it/s]\n"
          ],
          "name": "stderr"
        }
      ]
    },
    {
      "cell_type": "code",
      "metadata": {
        "id": "--BNLEsvThYi",
        "colab": {
          "base_uri": "https://localhost:8080/",
          "height": 34
        },
        "outputId": "eb0feaa0-e307-4cc5-bcae-466127490a0b"
      },
      "source": [
        "embedding_matrix = np.zeros((vocab_size,300))\n",
        "for word,i in tqdm(tokenizer.word_index.items()):\n",
        "    embedding_value = embedding_vector.get(word)\n",
        "    if embedding_value is not None:\n",
        "        embedding_matrix[i] = embedding_value"
      ],
      "execution_count": null,
      "outputs": [
        {
          "output_type": "stream",
          "text": [
            "100%|██████████| 101610/101610 [00:00<00:00, 488191.34it/s]\n"
          ],
          "name": "stderr"
        }
      ]
    },
    {
      "cell_type": "code",
      "metadata": {
        "id": "w9vH8Y59ajYL",
        "colab": {
          "base_uri": "https://localhost:8080/",
          "height": 513
        },
        "outputId": "1974311c-70cc-4ca8-90a6-c51abe790924"
      },
      "source": [
        "  model = Sequential()\n",
        "  model.add(Embedding(vocab_size,300,weights = [embedding_matrix],input_length=200,trainable = False))\n",
        "  model.add(LSTM(50, return_sequences=True))\n",
        "  model.add(Dropout(0.3))\n",
        "  model.add(LSTM(30))\n",
        "  model.add(Dense(4,activation = 'softmax'))\n",
        "  adam = Adam(lr=0.005)\n",
        "  model.compile(loss='categorical_crossentropy', optimizer=adam, metrics=['accuracy'])\n",
        "  model.summary()\n",
        "  history = model.fit(X_pad_train, y_train_one_hot, epochs=5, verbose=1, validation_data=(X_pad_test, y_test_one_hot))\n"
      ],
      "execution_count": null,
      "outputs": [
        {
          "output_type": "stream",
          "text": [
            "Model: \"sequential\"\n",
            "_________________________________________________________________\n",
            "Layer (type)                 Output Shape              Param #   \n",
            "=================================================================\n",
            "embedding (Embedding)        (None, 200, 300)          30483300  \n",
            "_________________________________________________________________\n",
            "lstm (LSTM)                  (None, 200, 50)           70200     \n",
            "_________________________________________________________________\n",
            "dropout (Dropout)            (None, 200, 50)           0         \n",
            "_________________________________________________________________\n",
            "lstm_1 (LSTM)                (None, 30)                9720      \n",
            "_________________________________________________________________\n",
            "dense (Dense)                (None, 4)                 124       \n",
            "=================================================================\n",
            "Total params: 30,563,344\n",
            "Trainable params: 80,044\n",
            "Non-trainable params: 30,483,300\n",
            "_________________________________________________________________\n",
            "Epoch 1/5\n",
            "729/729 [==============================] - 20s 27ms/step - loss: 0.8360 - accuracy: 0.6791 - val_loss: 0.7061 - val_accuracy: 0.7325\n",
            "Epoch 2/5\n",
            "729/729 [==============================] - 19s 26ms/step - loss: 0.6273 - accuracy: 0.7689 - val_loss: 0.6374 - val_accuracy: 0.7607\n",
            "Epoch 3/5\n",
            "729/729 [==============================] - 19s 26ms/step - loss: 0.5429 - accuracy: 0.7996 - val_loss: 0.6174 - val_accuracy: 0.7705\n",
            "Epoch 4/5\n",
            "729/729 [==============================] - 19s 26ms/step - loss: 0.4719 - accuracy: 0.8257 - val_loss: 0.6172 - val_accuracy: 0.7658\n",
            "Epoch 5/5\n",
            "729/729 [==============================] - 19s 26ms/step - loss: 0.4107 - accuracy: 0.8483 - val_loss: 0.6325 - val_accuracy: 0.7698\n"
          ],
          "name": "stdout"
        }
      ]
    },
    {
      "cell_type": "code",
      "metadata": {
        "id": "xqaWeNYzE28s"
      },
      "source": [
        "y_pred = model.predict_classes(X_pad_test)\n",
        "df_test = pd.DataFrame(zip(X_test, [id_to_category[i] for i in y_test], [id_to_category[i] for i in y_pred]), index = indices_test, columns=['description', 'genre', 'pred_genre'])\n",
        "df_test.to_csv('df_test.csv')"
      ],
      "execution_count": null,
      "outputs": []
    },
    {
      "cell_type": "code",
      "metadata": {
        "id": "qKMA1p25e2bs",
        "colab": {
          "base_uri": "https://localhost:8080/",
          "height": 513
        },
        "outputId": "b59a16ea-1e5c-4a98-92a4-6e9d083ba909"
      },
      "source": [
        "  model2 = Sequential()\n",
        "  model2.add(Embedding(vocab_size,300,weights = [embedding_matrix],input_length=X_pad_train.shape[1],trainable = False))\n",
        "  model2.add(LSTM(100, return_sequences=True))\n",
        "  model2.add(Dropout(0.5))\n",
        "  model2.add(LSTM(20))\n",
        "  model2.add(Dense(4,activation = 'softmax'))\n",
        "  adam2 = Adam(lr=0.005)\n",
        "  model2.compile(loss='categorical_crossentropy', optimizer=adam2, metrics=['accuracy'])\n",
        "  model2.summary()\n",
        "  history2 = model.fit(X_pad_train, y_train_one_hot, epochs=5, verbose=1, validation_data=(X_pad_test, y_test_one_hot))\n"
      ],
      "execution_count": null,
      "outputs": [
        {
          "output_type": "stream",
          "text": [
            "Model: \"sequential_1\"\n",
            "_________________________________________________________________\n",
            "Layer (type)                 Output Shape              Param #   \n",
            "=================================================================\n",
            "embedding_1 (Embedding)      (None, 750, 300)          30483300  \n",
            "_________________________________________________________________\n",
            "lstm_2 (LSTM)                (None, 750, 100)          160400    \n",
            "_________________________________________________________________\n",
            "dropout_1 (Dropout)          (None, 750, 100)          0         \n",
            "_________________________________________________________________\n",
            "lstm_3 (LSTM)                (None, 20)                9680      \n",
            "_________________________________________________________________\n",
            "dense_1 (Dense)              (None, 4)                 84        \n",
            "=================================================================\n",
            "Total params: 30,653,464\n",
            "Trainable params: 170,164\n",
            "Non-trainable params: 30,483,300\n",
            "_________________________________________________________________\n",
            "Epoch 1/5\n",
            "729/729 [==============================] - 45s 61ms/step - loss: 0.4365 - accuracy: 0.8407 - val_loss: 0.6246 - val_accuracy: 0.7669\n",
            "Epoch 2/5\n",
            "729/729 [==============================] - 45s 62ms/step - loss: 0.3814 - accuracy: 0.8626 - val_loss: 0.6368 - val_accuracy: 0.7701\n",
            "Epoch 3/5\n",
            "729/729 [==============================] - 45s 61ms/step - loss: 0.3375 - accuracy: 0.8821 - val_loss: 0.6570 - val_accuracy: 0.7734\n",
            "Epoch 4/5\n",
            "729/729 [==============================] - 44s 61ms/step - loss: 0.3073 - accuracy: 0.8909 - val_loss: 0.6755 - val_accuracy: 0.7744\n",
            "Epoch 5/5\n",
            "729/729 [==============================] - 44s 61ms/step - loss: 0.2821 - accuracy: 0.9019 - val_loss: 0.7102 - val_accuracy: 0.7765\n"
          ],
          "name": "stdout"
        }
      ]
    },
    {
      "cell_type": "code",
      "metadata": {
        "id": "O_IflbV6IVuX",
        "colab": {
          "base_uri": "https://localhost:8080/",
          "height": 445
        },
        "outputId": "d5e40524-cde9-49f8-fb4c-950dd65c6bb2"
      },
      "source": [
        "  model2 = Sequential()\n",
        "  model2.add(Embedding(vocab_size,300,weights = [embedding_matrix],input_length=X_pad_train.shape[1],trainable = False))\n",
        "  model2.add(LSTM(100))\n",
        "  model2.add(Dense(4,activation = 'softmax'))\n",
        "  adam2 = Adam(lr=0.005)\n",
        "  model2.compile(loss='categorical_crossentropy', optimizer=adam2, metrics=['accuracy'])\n",
        "  model2.summary()\n",
        "  history2 = model.fit(X_pad_train, y_train_one_hot, epochs=5, verbose=1, validation_data=(X_pad_test, y_test_one_hot))"
      ],
      "execution_count": null,
      "outputs": [
        {
          "output_type": "stream",
          "text": [
            "Model: \"sequential_2\"\n",
            "_________________________________________________________________\n",
            "Layer (type)                 Output Shape              Param #   \n",
            "=================================================================\n",
            "embedding_2 (Embedding)      (None, 750, 300)          30483300  \n",
            "_________________________________________________________________\n",
            "lstm_4 (LSTM)                (None, 100)               160400    \n",
            "_________________________________________________________________\n",
            "dense_2 (Dense)              (None, 4)                 404       \n",
            "=================================================================\n",
            "Total params: 30,644,104\n",
            "Trainable params: 160,804\n",
            "Non-trainable params: 30,483,300\n",
            "_________________________________________________________________\n",
            "Epoch 1/5\n",
            "729/729 [==============================] - 45s 62ms/step - loss: 0.2523 - accuracy: 0.9127 - val_loss: 0.7146 - val_accuracy: 0.7787\n",
            "Epoch 2/5\n",
            "729/729 [==============================] - 44s 61ms/step - loss: 0.2351 - accuracy: 0.9190 - val_loss: 0.7780 - val_accuracy: 0.7710\n",
            "Epoch 3/5\n",
            "729/729 [==============================] - 44s 60ms/step - loss: 0.2158 - accuracy: 0.9260 - val_loss: 0.8076 - val_accuracy: 0.7622\n",
            "Epoch 4/5\n",
            "729/729 [==============================] - 44s 60ms/step - loss: 0.2091 - accuracy: 0.9278 - val_loss: 0.8455 - val_accuracy: 0.7651\n",
            "Epoch 5/5\n",
            "729/729 [==============================] - 44s 61ms/step - loss: 0.1985 - accuracy: 0.9315 - val_loss: 0.8174 - val_accuracy: 0.7636\n"
          ],
          "name": "stdout"
        }
      ]
    },
    {
      "cell_type": "code",
      "metadata": {
        "id": "nyetbVceILqz",
        "colab": {
          "base_uri": "https://localhost:8080/",
          "height": 122
        },
        "outputId": "6e2bea07-ee7b-4fa3-dc97-d31726d1ab95"
      },
      "source": [
        "model.predict_classes(X_pad_test)"
      ],
      "execution_count": null,
      "outputs": [
        {
          "output_type": "stream",
          "text": [
            "WARNING:tensorflow:From <ipython-input-15-dff7142cf0e7>:1: Sequential.predict_classes (from tensorflow.python.keras.engine.sequential) is deprecated and will be removed after 2021-01-01.\n",
            "Instructions for updating:\n",
            "Please use instead:* `np.argmax(model.predict(x), axis=-1)`,   if your model does multi-class classification   (e.g. if it uses a `softmax` last-layer activation).* `(model.predict(x) > 0.5).astype(\"int32\")`,   if your model does binary classification   (e.g. if it uses a `sigmoid` last-layer activation).\n",
            "WARNING:tensorflow:Model was constructed with shape (None, 300) for input Tensor(\"embedding_input:0\", shape=(None, 300), dtype=float32), but it was called on an input with incompatible shape (None, 750).\n"
          ],
          "name": "stdout"
        },
        {
          "output_type": "execute_result",
          "data": {
            "text/plain": [
              "array([3, 3, 1, ..., 0, 0, 0])"
            ]
          },
          "metadata": {
            "tags": []
          },
          "execution_count": 15
        }
      ]
    },
    {
      "cell_type": "code",
      "metadata": {
        "id": "e-LSedAYH9jz",
        "colab": {
          "base_uri": "https://localhost:8080/",
          "height": 231
        },
        "outputId": "9c9eff49-8e15-4ded-d6fd-1b313692cf77"
      },
      "source": [
        "import matplotlib.pyplot as plt\n",
        "from sklearn.metrics import confusion_matrix\n",
        "import seaborn as sns\n",
        "\n",
        "y_pred_rnn = model.predict_classes(X_pad_test)\n",
        "\n",
        "conf_mat_rnn = confusion_matrix(y_test, y_pred_rnn)\n",
        "fig, ax = plt.subplots(figsize=(5,5))\n",
        "sns.heatmap(conf_mat_rnn, annot=True, fmt='d',\n",
        "            xticklabels=category_id_df.genre.values, yticklabels=category_id_df.genre.values)\n",
        "plt.ylabel('Actual')\n",
        "plt.xlabel('Predicted')\n",
        "plt.show()"
      ],
      "execution_count": null,
      "outputs": [
        {
          "output_type": "error",
          "ename": "NameError",
          "evalue": "ignored",
          "traceback": [
            "\u001b[0;31m---------------------------------------------------------------------------\u001b[0m",
            "\u001b[0;31mNameError\u001b[0m                                 Traceback (most recent call last)",
            "\u001b[0;32m<ipython-input-10-30a7499c1505>\u001b[0m in \u001b[0;36m<module>\u001b[0;34m()\u001b[0m\n\u001b[1;32m      3\u001b[0m \u001b[0;32mimport\u001b[0m \u001b[0mseaborn\u001b[0m \u001b[0;32mas\u001b[0m \u001b[0msns\u001b[0m\u001b[0;34m\u001b[0m\u001b[0;34m\u001b[0m\u001b[0m\n\u001b[1;32m      4\u001b[0m \u001b[0;34m\u001b[0m\u001b[0m\n\u001b[0;32m----> 5\u001b[0;31m \u001b[0my_pred_rnn\u001b[0m \u001b[0;34m=\u001b[0m \u001b[0mmodel\u001b[0m\u001b[0;34m.\u001b[0m\u001b[0mpredict_classes\u001b[0m\u001b[0;34m(\u001b[0m\u001b[0mX_pad_test\u001b[0m\u001b[0;34m)\u001b[0m\u001b[0;34m\u001b[0m\u001b[0;34m\u001b[0m\u001b[0m\n\u001b[0m\u001b[1;32m      6\u001b[0m \u001b[0;34m\u001b[0m\u001b[0m\n\u001b[1;32m      7\u001b[0m \u001b[0mconf_mat_rnn\u001b[0m \u001b[0;34m=\u001b[0m \u001b[0mconfusion_matrix\u001b[0m\u001b[0;34m(\u001b[0m\u001b[0my_test\u001b[0m\u001b[0;34m,\u001b[0m \u001b[0my_pred_rnn\u001b[0m\u001b[0;34m)\u001b[0m\u001b[0;34m\u001b[0m\u001b[0;34m\u001b[0m\u001b[0m\n",
            "\u001b[0;31mNameError\u001b[0m: name 'model' is not defined"
          ]
        }
      ]
    },
    {
      "cell_type": "code",
      "metadata": {
        "id": "3YXGelKThoTT"
      },
      "source": [
        "import matplotlib.pyplot as plt\n",
        "\n",
        "\n",
        "def plot_graphs(history, string):\n",
        "  plt.plot(history.history[string])\n",
        "  plt.xlabel(\"Epochs\")\n",
        "  plt.ylabel(string)\n",
        "  plt.show()"
      ],
      "execution_count": null,
      "outputs": []
    },
    {
      "cell_type": "code",
      "metadata": {
        "id": "poeprYK8h-c7",
        "colab": {
          "base_uri": "https://localhost:8080/",
          "height": 279
        },
        "outputId": "a88a9db0-85a3-426f-fb7c-173be4e09760"
      },
      "source": [
        "plot_graphs(history, 'val_accuracy')\n"
      ],
      "execution_count": null,
      "outputs": [
        {
          "output_type": "display_data",
          "data": {
            "image/png": "[encoded data removed]",
            "text/plain": [
              "<Figure size 432x288 with 1 Axes>"
            ]
          },
          "metadata": {
            "tags": [],
            "needs_background": "light"
          }
        }
      ]
    },
    {
      "cell_type": "code",
      "metadata": {
        "id": "ydRdjVzoHBhq"
      },
      "source": [
        ""
      ],
      "execution_count": null,
      "outputs": []
    },
    {
      "cell_type": "markdown",
      "metadata": {
        "id": "Qey-y_5NAOmn"
      },
      "source": [
        "## Outros classificadores"
      ]
    },
    {
      "cell_type": "code",
      "metadata": {
        "id": "axgilRXYAYhQ",
        "colab": {
          "base_uri": "https://localhost:8080/"
        },
        "outputId": "0ac5f9f0-2b5f-49c6-ead0-29d2542f33da"
      },
      "source": [
        "from sklearn.feature_extraction.text import TfidfVectorizer\n",
        "from sklearn.preprocessing import LabelEncoder\n",
        "\n",
        "tfidf = TfidfVectorizer(sublinear_tf=True, min_df=10, norm='l2', ngram_range=(1, 2), stop_words='english')\n",
        "features = tfidf.fit_transform(X_train).toarray()\n",
        "labels = y_train\n",
        "features.shape"
      ],
      "execution_count": null,
      "outputs": [
        {
          "output_type": "execute_result",
          "data": {
            "text/plain": [
              "(23314, 22441)"
            ]
          },
          "metadata": {
            "tags": []
          },
          "execution_count": 7
        }
      ]
    },
    {
      "cell_type": "code",
      "metadata": {
        "id": "1x_H_uNkXoNx",
        "colab": {
          "base_uri": "https://localhost:8080/",
          "height": 1000
        },
        "outputId": "12150eba-b104-4416-ad09-8fd81dd738f4"
      },
      "source": [
        "from sklearn.feature_selection import chi2\n",
        "import numpy as np\n",
        "N = 10\n",
        "for genre, category_id in sorted(category_to_id.items()):\n",
        "  features_chi2 = chi2(features, labels == category_id)\n",
        "  indices = np.argsort(features_chi2[0])\n",
        "  feature_names = np.array(tfidf.get_feature_names())[indices]\n",
        "  unigrams = [v for v in feature_names if len(v.split(' ')) == 1]\n",
        "  bigrams = [v for v in feature_names if len(v.split(' ')) == 2]\n",
        "  print(\"# '{}':\".format(genre))\n",
        "  print(\"  . Most correlated unigrams:\\n. {}\".format('\\n. '.join(unigrams[-N:])))\n",
        "  print(\"  . Most correlated bigrams:\\n. {}\".format('\\n. '.join(bigrams[-N:])))"
      ],
      "execution_count": null,
      "outputs": [
        {
          "output_type": "stream",
          "text": [
            "# 'Fantasy':\n",
            "  . Most correlated unigrams:\n",
            ". planet\n",
            ". creatures\n",
            ". powers\n",
            ". kingdom\n",
            ". evil\n",
            ". dragon\n",
            ". earth\n",
            ". fantasy\n",
            ". magical\n",
            ". magic\n",
            "  . Most correlated bigrams:\n",
            ". human race\n",
            ". good evil\n",
            ". war ii\n",
            ". save world\n",
            ". harry potter\n",
            ". fairy tales\n",
            ". world war\n",
            ". epic fantasy\n",
            ". fantasy series\n",
            ". science fiction\n",
            "# 'Historical':\n",
            "  . Most correlated unigrams:\n",
            ". hitler\n",
            ". jewish\n",
            ". german\n",
            ". england\n",
            ". novel\n",
            ". century\n",
            ". american\n",
            ". ii\n",
            ". war\n",
            ". historical\n",
            "  . Most correlated bigrams:\n",
            ". richard sharpe\n",
            ". pulitzer prize\n",
            ". henry viii\n",
            ". second world\n",
            ". twentieth century\n",
            ". civil war\n",
            ". historical novel\n",
            ". historical fiction\n",
            ". war ii\n",
            ". world war\n",
            "# 'Mystery':\n",
            "  . Most correlated unigrams:\n",
            ". holmes\n",
            ". mystery\n",
            ". investigation\n",
            ". thriller\n",
            ". police\n",
            ". crime\n",
            ". case\n",
            ". killer\n",
            ". detective\n",
            ". murder\n",
            "  . Most correlated bigrams:\n",
            ". stephanie plum\n",
            ". lieutenant eve\n",
            ". agatha christie\n",
            ". scotland yard\n",
            ". hercule poirot\n",
            ". mrs jeffries\n",
            ". mystery series\n",
            ". serial killer\n",
            ". eve dallas\n",
            ". sherlock holmes\n",
            "# 'Romance':\n",
            "  . Most correlated unigrams:\n",
            ". desire\n",
            ". attraction\n",
            ". heart\n",
            ". passion\n",
            ". sexual\n",
            ". relationship\n",
            ". sex\n",
            ". romance\n",
            ". sexy\n",
            ". love\n",
            "  . Most correlated bigrams:\n",
            ". love story\n",
            ". contemporary romance\n",
            ". fall love\n",
            ". best friends\n",
            ". new adult\n",
            ". falling love\n",
            ". true love\n",
            ". sexual content\n",
            ". bad boy\n",
            ". best friend\n"
          ],
          "name": "stdout"
        }
      ]
    },
    {
      "cell_type": "code",
      "metadata": {
        "id": "rY7UutEsXplN"
      },
      "source": [
        "from sklearn.feature_extraction.text import CountVectorizer\n",
        "from sklearn.feature_extraction.text import TfidfTransformer\n",
        "from sklearn.naive_bayes import MultinomialNB\n",
        "\n",
        "count_vect = CountVectorizer()\n",
        "X_train_counts = count_vect.fit_transform(X_train)\n",
        "X_test_counts = count_vect.transform(X_test)\n",
        "tfidf_transformer = TfidfTransformer()\n",
        "X_train_tfidf = tfidf_transformer.fit_transform(X_train_counts)\n",
        "X_test_tfidf = tfidf_transformer.transform(X_test_counts)\n"
      ],
      "execution_count": null,
      "outputs": []
    },
    {
      "cell_type": "code",
      "metadata": {
        "id": "9Qp4r6-vdQ87",
        "colab": {
          "base_uri": "https://localhost:8080/",
          "height": 351
        },
        "outputId": "fdef1b5e-ba23-4694-834a-271f7a9c7e4a"
      },
      "source": [
        "clf = MultinomialNB(alpha=0.1, fit_prior=False)\n",
        "clf.fit(X_train_tfidf, y_train)\n",
        "y_pred_nb = clf.predict(X_test_tfidf)\n",
        "print(clf.score(X_test_tfidf, y_test))\n",
        "\n",
        "conf_mat_nb = confusion_matrix(y_test, y_pred_nb)\n",
        "fig, ax = plt.subplots(figsize=(5,5))\n",
        "sns.heatmap(conf_mat_nb, annot=True, fmt='d',\n",
        "            xticklabels=category_id_df.genre.values, yticklabels=category_id_df.genre.values)\n",
        "plt.ylabel('Actual')\n",
        "plt.xlabel('Predicted')\n",
        "plt.show()"
      ],
      "execution_count": null,
      "outputs": [
        {
          "output_type": "stream",
          "text": [
            "0.7922456682106708\n"
          ],
          "name": "stdout"
        },
        {
          "output_type": "display_data",
          "data": {
            "image/png": "[encoded data removed]",
            "text/plain": [
              "<Figure size 360x360 with 2 Axes>"
            ]
          },
          "metadata": {
            "tags": [],
            "needs_background": "light"
          }
        }
      ]
    },
    {
      "cell_type": "code",
      "metadata": {
        "id": "RZ6aYvtAgtH2"
      },
      "source": [
        "from sklearn.linear_model import LogisticRegression\n",
        "from sklearn.svm import LinearSVC, SVC\n",
        "from sklearn.model_selection import GridSearchCV"
      ],
      "execution_count": null,
      "outputs": []
    },
    {
      "cell_type": "code",
      "metadata": {
        "id": "nU7Ys-uDdl2l",
        "colab": {
          "base_uri": "https://localhost:8080/",
          "height": 351
        },
        "outputId": "2fb61a20-7ce5-4652-a0b7-683a5bd9b32d"
      },
      "source": [
        "svc = LinearSVC(penalty='l2', loss='squared_hinge', dual=True)\n",
        "svc.fit(X_train_tfidf, y_train)\n",
        "y_pred_svc = svc.predict(X_test_tfidf)\n",
        "print(svc.score(X_test_tfidf, y_test))\n",
        "\n",
        "conf_mat_svc = confusion_matrix(y_test, y_pred_svc)\n",
        "fig, ax = plt.subplots(figsize=(5,5))\n",
        "sns.heatmap(conf_mat_svc, annot=True, fmt='d',\n",
        "            xticklabels=category_id_df.genre.values, yticklabels=category_id_df.genre.values)\n",
        "plt.ylabel('Actual')\n",
        "plt.xlabel('Predicted')\n",
        "plt.show()"
      ],
      "execution_count": null,
      "outputs": [
        {
          "output_type": "stream",
          "text": [
            "0.8148910619317207\n"
          ],
          "name": "stdout"
        },
        {
          "output_type": "display_data",
          "data": {
            "image/png": "[encoded data removed]",
            "text/plain": [
              "<Figure size 360x360 with 2 Axes>"
            ]
          },
          "metadata": {
            "tags": [],
            "needs_background": "light"
          }
        }
      ]
    },
    {
      "cell_type": "code",
      "metadata": {
        "id": "pft8YP2xtNqs",
        "colab": {
          "base_uri": "https://localhost:8080/",
          "height": 265
        },
        "outputId": "3598b76e-e734-4c86-dfee-a9d723896b06"
      },
      "source": [
        "for predicted in category_id_df.category_id:\n",
        "  for actual in category_id_df.category_id:\n",
        "    if predicted != actual and conf_mat[actual, predicted] >= 10:\n",
        "      print(\"'{}' predicted as '{}' : {} examples.\".format(id_to_category[actual], id_to_category[predicted], conf_mat[actual, predicted]))\n",
        "      display(df.loc[indices_test[(y_test == actual) & (y_pred == predicted)]][['genre', 'description']])\n",
        "      print('')"
      ],
      "execution_count": null,
      "outputs": [
        {
          "output_type": "error",
          "ename": "NameError",
          "evalue": "ignored",
          "traceback": [
            "\u001b[0;31m---------------------------------------------------------------------------\u001b[0m",
            "\u001b[0;31mNameError\u001b[0m                                 Traceback (most recent call last)",
            "\u001b[0;32m<ipython-input-26-a7b11fb2ea55>\u001b[0m in \u001b[0;36m<module>\u001b[0;34m()\u001b[0m\n\u001b[1;32m      1\u001b[0m \u001b[0;32mfor\u001b[0m \u001b[0mpredicted\u001b[0m \u001b[0;32min\u001b[0m \u001b[0mcategory_id_df\u001b[0m\u001b[0;34m.\u001b[0m\u001b[0mcategory_id\u001b[0m\u001b[0;34m:\u001b[0m\u001b[0;34m\u001b[0m\u001b[0;34m\u001b[0m\u001b[0m\n\u001b[1;32m      2\u001b[0m   \u001b[0;32mfor\u001b[0m \u001b[0mactual\u001b[0m \u001b[0;32min\u001b[0m \u001b[0mcategory_id_df\u001b[0m\u001b[0;34m.\u001b[0m\u001b[0mcategory_id\u001b[0m\u001b[0;34m:\u001b[0m\u001b[0;34m\u001b[0m\u001b[0;34m\u001b[0m\u001b[0m\n\u001b[0;32m----> 3\u001b[0;31m     \u001b[0;32mif\u001b[0m \u001b[0mpredicted\u001b[0m \u001b[0;34m!=\u001b[0m \u001b[0mactual\u001b[0m \u001b[0;32mand\u001b[0m \u001b[0mconf_mat\u001b[0m\u001b[0;34m[\u001b[0m\u001b[0mactual\u001b[0m\u001b[0;34m,\u001b[0m \u001b[0mpredicted\u001b[0m\u001b[0;34m]\u001b[0m \u001b[0;34m>=\u001b[0m \u001b[0;36m10\u001b[0m\u001b[0;34m:\u001b[0m\u001b[0;34m\u001b[0m\u001b[0;34m\u001b[0m\u001b[0m\n\u001b[0m\u001b[1;32m      4\u001b[0m       \u001b[0mprint\u001b[0m\u001b[0;34m(\u001b[0m\u001b[0;34m\"'{}' predicted as '{}' : {} examples.\"\u001b[0m\u001b[0;34m.\u001b[0m\u001b[0mformat\u001b[0m\u001b[0;34m(\u001b[0m\u001b[0mid_to_category\u001b[0m\u001b[0;34m[\u001b[0m\u001b[0mactual\u001b[0m\u001b[0;34m]\u001b[0m\u001b[0;34m,\u001b[0m \u001b[0mid_to_category\u001b[0m\u001b[0;34m[\u001b[0m\u001b[0mpredicted\u001b[0m\u001b[0;34m]\u001b[0m\u001b[0;34m,\u001b[0m \u001b[0mconf_mat\u001b[0m\u001b[0;34m[\u001b[0m\u001b[0mactual\u001b[0m\u001b[0;34m,\u001b[0m \u001b[0mpredicted\u001b[0m\u001b[0;34m]\u001b[0m\u001b[0;34m)\u001b[0m\u001b[0;34m)\u001b[0m\u001b[0;34m\u001b[0m\u001b[0;34m\u001b[0m\u001b[0m\n\u001b[1;32m      5\u001b[0m       \u001b[0mdisplay\u001b[0m\u001b[0;34m(\u001b[0m\u001b[0mdf\u001b[0m\u001b[0;34m.\u001b[0m\u001b[0mloc\u001b[0m\u001b[0;34m[\u001b[0m\u001b[0mindices_test\u001b[0m\u001b[0;34m[\u001b[0m\u001b[0;34m(\u001b[0m\u001b[0my_test\u001b[0m \u001b[0;34m==\u001b[0m \u001b[0mactual\u001b[0m\u001b[0;34m)\u001b[0m \u001b[0;34m&\u001b[0m \u001b[0;34m(\u001b[0m\u001b[0my_pred\u001b[0m \u001b[0;34m==\u001b[0m \u001b[0mpredicted\u001b[0m\u001b[0;34m)\u001b[0m\u001b[0;34m]\u001b[0m\u001b[0;34m]\u001b[0m\u001b[0;34m[\u001b[0m\u001b[0;34m[\u001b[0m\u001b[0;34m'genre'\u001b[0m\u001b[0;34m,\u001b[0m \u001b[0;34m'description'\u001b[0m\u001b[0;34m]\u001b[0m\u001b[0;34m]\u001b[0m\u001b[0;34m)\u001b[0m\u001b[0;34m\u001b[0m\u001b[0;34m\u001b[0m\u001b[0m\n",
            "\u001b[0;31mNameError\u001b[0m: name 'conf_mat' is not defined"
          ]
        }
      ]
    },
    {
      "cell_type": "code",
      "metadata": {
        "id": "9fmhHv3Ht10Q",
        "colab": {
          "base_uri": "https://localhost:8080/",
          "height": 351
        },
        "outputId": "5120a5d6-69c5-41d3-86b7-1dc2af3cc7b5"
      },
      "source": [
        "lr = LogisticRegression(random_state=43, max_iter=200)\n",
        "\n",
        "lr.fit(X_train_tfidf, y_train)\n",
        "y_pred_lr = lr.predict(X_test_tfidf)\n",
        "print(lr.score(X_test_tfidf, y_test))\n",
        "\n",
        "conf_mat_lr = confusion_matrix(y_test, y_pred_lr)\n",
        "fig, ax = plt.subplots(figsize=(5,5))\n",
        "sns.heatmap(conf_mat_lr, annot=True, fmt='d',\n",
        "            xticklabels=category_id_df.genre.values, yticklabels=category_id_df.genre.values)\n",
        "plt.ylabel('Actual')\n",
        "plt.xlabel('Predicted')\n",
        "plt.show()"
      ],
      "execution_count": null,
      "outputs": [
        {
          "output_type": "stream",
          "text": [
            "0.8006519128495454\n"
          ],
          "name": "stdout"
        },
        {
          "output_type": "display_data",
          "data": {
            "image/png": "[encoded data removed]",
            "text/plain": [
              "<Figure size 360x360 with 2 Axes>"
            ]
          },
          "metadata": {
            "tags": [],
            "needs_background": "light"
          }
        }
      ]
    },
    {
      "cell_type": "code",
      "metadata": {
        "id": "ZxK3qoJWxaK9",
        "colab": {
          "base_uri": "https://localhost:8080/",
          "height": 385
        },
        "outputId": "937206f5-e91f-421a-a16c-d88a5d20f6a1"
      },
      "source": [
        "vmin=0\n",
        "vmax=2200\n",
        "\n",
        "fig, ax = plt.subplots(nrows=2, ncols=3, figsize=(10,5), gridspec_kw=dict(width_ratios=[4,4,0.2]))\n",
        "sns.heatmap(conf_mat_rnn, annot=True, fmt='d',\n",
        "            xticklabels=category_id_df.genre.values, yticklabels=category_id_df.genre.values, ax=ax[0,0], cbar=False, vmin=vmin, vmax=vmax)\n",
        "sns.heatmap(conf_mat_nb, annot=True, fmt='d',\n",
        "            xticklabels=category_id_df.genre.values, yticklabels=category_id_df.genre.values, ax=ax[0,1], cbar=False, vmin=vmin, vmax=vmax)\n",
        "sns.heatmap(conf_mat_svc, annot=True, fmt='d',\n",
        "            xticklabels=category_id_df.genre.values, yticklabels=category_id_df.genre.values, ax=ax[1,0], cbar=False, vmin=vmin, vmax=vmax)\n",
        "sns.heatmap(conf_mat_lr, annot=True, fmt='d',\n",
        "            xticklabels=category_id_df.genre.values, yticklabels=category_id_df.genre.values, ax=ax[1,1], cbar=False, vmin=vmin, vmax=vmax)\n",
        "fig.colorbar(ax[1,0].collections[0], cax=ax[0,2])\n",
        "ax[1,2].axis('off')\n",
        "fig.tight_layout(h_pad=3, w_pad=1)\n",
        "\n",
        "ax[0,0].set_title('RNN')\n",
        "ax[0,1].set_title('Naïve Bayes')\n",
        "ax[1,0].set_title('SVC')\n",
        "ax[1,1].set_title('Regressão Logistica')\n",
        "plt.ylabel('Actual')\n",
        "plt.xlabel('Predicted')\n",
        "#plt.show()\n",
        "plt.savefig('confusion_matrix.png', format='png', bbox_inches='tight')"
      ],
      "execution_count": null,
      "outputs": [
        {
          "output_type": "display_data",
          "data": {
            "image/png": "[encoded data removed]",
            "text/plain": [
              "<Figure size 720x360 with 6 Axes>"
            ]
          },
          "metadata": {
            "tags": [],
            "needs_background": "light"
          }
        }
      ]
    },
    {
      "cell_type": "code",
      "metadata": {
        "id": "oB0Gt8u0gSjP"
      },
      "source": [
        ""
      ],
      "execution_count": null,
      "outputs": []
    }
  ]
}